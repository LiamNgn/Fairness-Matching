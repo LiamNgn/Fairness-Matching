{
 "cells": [
  {
   "cell_type": "code",
   "execution_count": 1,
   "metadata": {},
   "outputs": [],
   "source": [
    "#Import packages\n",
    "from scipy.stats import norm\n",
    "import matplotlib.pyplot as plt\n",
    "import seaborn as sns\n",
    "from math import erf\n",
    "from BayesEst import exp_val,gaussian_denominator,denominator,bayesian_est\n",
    "import numpy as np\n",
    "from scipy.integrate import quad\n"
   ]
  },
  {
   "cell_type": "markdown",
   "metadata": {},
   "source": [
    "### Calculating the Bayesian Optimal estimator"
   ]
  },
  {
   "cell_type": "markdown",
   "metadata": {},
   "source": [
    "We assume that all students have a latent quality $W$, their scores $\\hat{W^A},\\hat{W^B}$ are respectively the rating scores of college A and B. These ratings scores are the sum of the latent quality and a noise term $\\varepsilon$ drawn indepdently at each college, i.e. \n",
    "\\begin{equation}\n",
    "   \\forall s \\in S, \\text{ for } C \\in \\{A,B\\}, \\widehat{W^C_s} = \\varepsilon_s^C + W_s \n",
    "\\end{equation}\n",
    "where $S$ is the student set and $s$ is an arbitrary student. Moreover, we assume that the latent qualities of all students are drawn from a (group-indepedent) normal distribution, the noises are also normally distributed and depend on the group:\n",
    "\\begin{equation}\n",
    "     \\forall s \\in S, \\text{ for } C \\in \\{A,B\\}, W_s \\sim \\mathcal{N}(0,\\chi^2), \\varepsilon^C_s \\sim \\mathcal{N}(0,\\sigma^2_{G(s)}).\n",
    "\\end{equation}\n",
    "$\\hat{W}_s^C$ then is a normal distribution with mean $0$ and variance $\\chi_{G(s)}^2 = \\chi^2 + \\sigma^2_{G(s)}$."
   ]
  },
  {
   "cell_type": "markdown",
   "metadata": {},
   "source": [
    "In this notebook, we will calculate the conditional expectation $E[W_s|\\widehat{W_s^A},\\widehat{W_s^B}<P_B]$. \n",
    "\n",
    "This conditional expectation can be rewritten as\n",
    "\n",
    "$$E[W_s|\\widehat{W_s^A},\\widehat{W_s^B}<P_B] = \\int_R w \\frac{f_{W_s,\\widehat{W_s^A},\\widehat{W_s^B} < P_B}(w,w_A,w_B < P_B)}{f_{\\widehat{W_s^A},\\widehat{W_s^B} < P_B}(w_A,w_B < P_B)} dw$$"
   ]
  },
  {
   "cell_type": "markdown",
   "metadata": {},
   "source": [
    "## New way to calculate the conditional expectation"
   ]
  },
  {
   "cell_type": "markdown",
   "metadata": {},
   "source": [
    "Use the same settings,\n",
    "the conditional expectation can be rewritten as\n",
    "\n",
    "$$E[W_s|\\widehat{W_s^A},\\widehat{W_s^B}<P_B] = \\int_R w \\frac{f_{W_s,\\widehat{W_s^A},\\widehat{W_s^B} < P_B}(w,w_A,w_B < P_B)}{f_{\\widehat{W_s^A},\\widehat{W_s^B} < P_B}(w_A,w_B < P_B)} dw$$"
   ]
  },
  {
   "cell_type": "markdown",
   "metadata": {},
   "source": [
    "$$\n",
    "\\begin{align}\n",
    "    &\\int_R w \\Phi(\\frac{P_B - w}{\\sigma}) \\phi(\\frac{w-a}{b})dw \\nonumber\\\\\n",
    "    &=\\int_R w \\Phi(\\frac{P_B - w}{\\sigma}) \\frac{1}{\\sqrt{2 \\pi}} \\exp{\\left(-\\frac{\\left(\\frac{w-a}{b}\\right)^2}{2}\\right)}dw \\nonumber\\\\\n",
    "    &= \\int_R w \\Phi(\\frac{P_B - w}{\\sigma}) \\frac{1}{\\sqrt{2 \\pi}} \\exp{\\left(-\\frac{\\left(\\frac{w-a}{b}\\right)^2}{2}\\right)}dw \\nonumber\\\\\n",
    "    &=\\frac{1}{\\sqrt{2 \\pi}} \\int_R w \\Phi(\\frac{P_B - w}{\\sigma}) \\exp{\\left(-\\frac{\\left(\\frac{w-a}{b}\\right)^2}{2}\\right)}dw \\nonumber\\\\\n",
    "    &= \\frac{1}{\\sqrt{2 \\pi}} \\int_R w \\frac{1}{2}(1+\\text{erf}(\\frac{P_B - w}{\\sigma \\sqrt{2}})) \\exp{\\left(-\\frac{\\left(\\frac{w-a}{b}\\right)^2}{2}\\right)}dw \\nonumber\\\\\n",
    "    &= \\frac{1}{\\sqrt{2 \\pi}} \\int_R w \\frac{1}{2} \\exp{\\left(-\\frac{\\left(\\frac{w-a}{b}\\right)^2}{2}\\right)}dw + \\frac{1}{\\sqrt{2 \\pi}} \\int_R w \\frac{1}{2}\\text{erf}(\\frac{P_B - w}{\\sigma \\sqrt{2}}) \\exp{\\left(-\\frac{\\left(\\frac{w-a}{b}\\right)^2}{2}\\right)}dw\n",
    "\\end{align}$$"
   ]
  },
  {
   "cell_type": "markdown",
   "metadata": {},
   "source": [
    "The following defined functions are to calculate the last part of the equation numerically and will be compared to the original Bayes_est function."
   ]
  },
  {
   "cell_type": "code",
   "execution_count": 2,
   "metadata": {},
   "outputs": [],
   "source": [
    "#Define function inside the integral\n",
    "def integrand_test_1(w,w_a,p_b,chi,sigma):\n",
    "    a = (chi**2/(chi**2+sigma**2))*w_a\n",
    "    b = np.sqrt(chi**2*sigma**2/(chi**2+sigma**2))\n",
    "    return w*np.exp(-((w-a)/b)**2/2)\n",
    "#Calculate the integral with respect to w\n",
    "def exp_val_new_1(w_a,p_b,chi,sigma):\n",
    "    return quad(integrand_test_1, -np.inf,np.inf,args=(w_a,p_b,chi,sigma))\n",
    "def integrad_test_2(w,w_a,p_b,chi,sigma):\n",
    "    a = chi**2/(chi**2+sigma**2)*w_a\n",
    "    b = np.sqrt(chi**2*sigma**2/(chi**2+sigma**2))\n",
    "    return w*np.exp(-((w-a)/b)**2/2)*erf((p_b-w)/(np.sqrt(2)*sigma))\n",
    "def exp_val_new_2(w_a,p_b,chi,sigma):\n",
    "    return quad(integrad_test_2, -np.inf,np.inf,args=(w_a,p_b,chi,sigma))\n",
    "def test_numerator(w_a,p_b,chi,sigma):\n",
    "    b = np.sqrt(chi**2*sigma**2/(chi**2+sigma**2))\n",
    "    return (1/(2*b*np.sqrt(2*np.pi)))*(exp_val_new_1(w_a,p_b,chi,sigma)[0] + exp_val_new_2(w_a,p_b,chi,sigma)[0])"
   ]
  },
  {
   "cell_type": "code",
   "execution_count": 3,
   "metadata": {},
   "outputs": [],
   "source": [
    "def original_numerator_integrand(w,w_a,p_b,chi,sigma):\n",
    "    a = (chi**2/(chi**2+sigma**2))*w_a\n",
    "    b = np.sqrt(chi**2*sigma**2/(chi**2+sigma**2))\n",
    "    return w*norm.cdf(p_b -w,0,sigma)*norm.pdf((w-a),0,b)\n",
    "def orig_exp_val(w_a,p_b,chi,sigma):\n",
    "    return quad(original_numerator_integrand,-np.inf,np.inf,args=(w_a,p_b,chi,sigma))"
   ]
  },
  {
   "cell_type": "code",
   "execution_count": 4,
   "metadata": {},
   "outputs": [],
   "source": [
    "def original_numerator_integrand_new(w,w_a,p_b,chi,sigma):\n",
    "        return w*norm.cdf((p_b -w),0,sigma)*norm.pdf((w_a-w),0,sigma)\n",
    "def orig_exp_val_new(w_a,p_b,chi,sigma):\n",
    "    return quad(original_numerator_integrand,-np.inf,np.inf,args=(w_a,p_b,chi,sigma))"
   ]
  },
  {
   "cell_type": "code",
   "execution_count": 5,
   "metadata": {},
   "outputs": [],
   "source": [
    "w_a = 4\n",
    "P_B = 5\n",
    "chi = 4\n",
    "sigma = 2"
   ]
  },
  {
   "cell_type": "code",
   "execution_count": 6,
   "metadata": {},
   "outputs": [
    {
     "data": {
      "text/plain": [
       "np.float64(0.12057150244086456)"
      ]
     },
     "execution_count": 6,
     "metadata": {},
     "output_type": "execute_result"
    }
   ],
   "source": [
    "test_numerator(w_a,P_B,chi,sigma)*norm.pdf(w_a,0,np.sqrt(sigma**2+chi**2))"
   ]
  },
  {
   "cell_type": "code",
   "execution_count": 7,
   "metadata": {},
   "outputs": [
    {
     "data": {
      "text/plain": [
       "np.float64(0.12057150244086456)"
      ]
     },
     "execution_count": 7,
     "metadata": {},
     "output_type": "execute_result"
    }
   ],
   "source": [
    "orig_exp_val_new(w_a,P_B,chi,sigma)[0]*norm.pdf(w_a,0,np.sqrt(chi**2+sigma**2))"
   ]
  },
  {
   "cell_type": "code",
   "execution_count": 8,
   "metadata": {},
   "outputs": [
    {
     "data": {
      "text/plain": [
       "np.float64(0.12057150244086456)"
      ]
     },
     "execution_count": 8,
     "metadata": {},
     "output_type": "execute_result"
    }
   ],
   "source": [
    "orig_exp_val(w_a,P_B,chi,sigma)[0]*norm.pdf(w_a,0,np.sqrt(chi**2+sigma**2))"
   ]
  },
  {
   "cell_type": "code",
   "execution_count": 9,
   "metadata": {},
   "outputs": [
    {
     "data": {
      "text/plain": [
       "(0.12057150244086448, 2.4600658611068408e-09)"
      ]
     },
     "execution_count": 9,
     "metadata": {},
     "output_type": "execute_result"
    }
   ],
   "source": [
    "exp_val(w_a,P_B,chi,sigma)"
   ]
  },
  {
   "cell_type": "code",
   "execution_count": 10,
   "metadata": {},
   "outputs": [
    {
     "name": "stdout",
     "output_type": "stream",
     "text": [
      "The value of the expected value using the above calculation is 2.6926673189306616\n",
      "The value of the expected value using the original calculation is 2.6926673189306594\n"
     ]
    }
   ],
   "source": [
    "print(f'The value of the expected value using the above calculation is {test_numerator(w_a,P_B,chi,sigma)/denominator(w_a,P_B,chi,sigma)}')\n",
    "print(f'The value of the expected value using the original calculation is {bayesian_est(w_a,P_B,chi,sigma)}')\n",
    "#print(f'The value of the expected value using the analytical formula is {anal_bayes(w_a,P_B,chi,sigma)}')"
   ]
  },
  {
   "cell_type": "markdown",
   "metadata": {},
   "source": [
    "Moreover, for the first part of the last function above, let $u = \\frac{w-a}{b}$, we can rewrite \n",
    "$$\\begin{align}\n",
    "    \\frac{1}{\\sqrt{2 \\pi}} \\int_R w \\frac{1}{2} \\exp{\\left(-\\frac{\\left(\\frac{w-a}{b}\\right)^2}{2}\\right)}dw &= \\frac{1}{\\sqrt{2 \\pi}} \\int_R (ub+a) \\frac{1}{2} \\exp({-\\frac{u^2}{2})}bdu \\nonumber \\\\\n",
    "    &= \\frac{b^2}{2} \\frac{1}{\\sqrt{2 \\pi}} \\int_R u  \\exp({-\\frac{u^2}{2})}du + \\frac{ab}{2}\\frac{1}{\\sqrt{2 \\pi}} \\int_R   \\exp({-\\frac{u^2}{2})}du \\nonumber \\\\\n",
    "    &= \\frac{ab}{2}\n",
    "\\end{align}\n",
    "$$"
   ]
  },
  {
   "cell_type": "code",
   "execution_count": 11,
   "metadata": {},
   "outputs": [],
   "source": [
    "#Function to analytically calculate the integral\n",
    "def anal_exp_val_new_1(w_a,p_b,chi,sigma):\n",
    "    a = chi**2/(chi**2+sigma**2)*w_a\n",
    "    b = np.sqrt(chi**2*sigma**2/(chi**2+sigma**2))\n",
    "    #return a*b/2\n",
    "    return a/2"
   ]
  },
  {
   "cell_type": "code",
   "execution_count": 12,
   "metadata": {},
   "outputs": [
    {
     "name": "stdout",
     "output_type": "stream",
     "text": [
      "The numerical integration of the above equation is 1.5999999999999999\n",
      "The analytically value of the integral above is 1.6\n"
     ]
    }
   ],
   "source": [
    "a = chi**2/(chi**2+sigma**2)*w_a\n",
    "b = np.sqrt(chi**2*sigma**2/(chi**2+sigma**2))\n",
    "print(f'The numerical integration of the above equation is {(1/(b*2*np.sqrt(2*np.pi)))*exp_val_new_1(w_a,P_B,chi,sigma)[0]}')\n",
    "print(f'The analytically value of the integral above is {anal_exp_val_new_1(w_a,P_B,chi,sigma)}')"
   ]
  },
  {
   "cell_type": "markdown",
   "metadata": {},
   "source": [
    "We now proceed to calculate the value of \n",
    "$$\\frac{1}{\\sqrt{2 \\pi}} \\int_R w \\frac{1}{2}\\text{erf}(\\frac{P_B - w}{\\sigma \\sqrt{2}}) \\exp{\\left(-\\frac{\\left(\\frac{w-a}{b}\\right)^2}{2}\\right)}dw$$"
   ]
  },
  {
   "cell_type": "markdown",
   "metadata": {},
   "source": [
    "\n",
    "Let $t = \\frac{a - w}{b}$, we can rewrite $w = a - bt, \\frac{P_B - w}{\\sigma \\sqrt{2}} = \\frac{P_B + bt - a}{\\sigma \\sqrt{2}},$ and $dw = -bdt$. The equation above can be rewritten\n",
    "\n",
    "$$\\begin{align}\n",
    "    &\\frac{1}{\\sqrt{2 \\pi}} \\int_R w \\frac{1}{2}\\text{erf}(\\frac{P_B - w}{\\sigma \\sqrt{2}}) \\exp{\\left(-\\frac{\\left(\\frac{w-a}{b}\\right)^2}{2}\\right)}dw \\nonumber \\\\\n",
    "    &= \\frac{1}{\\sqrt{2 \\pi}} -\\int_R (a-bt) \\frac{1}{2}\\text{erf}(\\frac{P_B +bt - a}{\\sigma \\sqrt{2}}) \\exp\\frac{-t^2}{2}-bdt \\nonumber\\\\\n",
    "    &=  \\frac{b}{\\sqrt{2 \\pi}} \\int_R (a-bt) \\frac{1}{2}\\text{erf}(\\frac{P_B +bt - a}{\\sigma \\sqrt{2}}) \\exp\\frac{-t^2}{2}dt \\nonumber\\\\\n",
    "    &= \\frac{ab}{\\sqrt{2 \\pi}} \\int_R  \\frac{1}{2}\\text{erf}(\\frac{P_B +bt - a}{\\sigma \\sqrt{2}}) \\exp\\frac{-t^2}{2}dt - \\frac{b^2}{\\sqrt{2 \\pi}} \\int_R t \\frac{1}{2}\\text{erf}(\\frac{P_B +bt - a}{\\sigma \\sqrt{2}}) \\exp\\frac{-t^2}{2}dt \n",
    "\\end{align}$$"
   ]
  },
  {
   "cell_type": "code",
   "execution_count": 21,
   "metadata": {},
   "outputs": [
    {
     "name": "stdout",
     "output_type": "stream",
     "text": [
      "Value of the first equation numerically calculated is 0.7448017962578701\n",
      "Value of the last equation numerically calculated is 0.7448017962578695\n"
     ]
    }
   ],
   "source": [
    "print(f'Value of the first equation numerically calculated is {(1/(2*np.sqrt(2*np.pi)))*exp_val_new_2(w_a,P_B,chi,sigma)[0]}')\n",
    "print(f'Value of the last equation numerically calculated is {exp_val_new_3(w_a,P_B,chi,sigma)[0]*(a*b)/(2*np.sqrt(2*np.pi)) - exp_val_new_4(w_a,P_B,chi,sigma)[0]*(b**2)/(2*np.sqrt(2*np.pi))}')"
   ]
  },
  {
   "cell_type": "markdown",
   "metadata": {},
   "source": [
    "We first propose the solution to the first part of the above equation\n",
    "\n",
    "$$\\begin{align}\n",
    "    \\frac{ab}{\\sqrt{2 \\pi}} \\int_R  \\frac{1}{2}\\text{erf}(\\frac{P_B +bt - a}{\\sigma \\sqrt{2}}) \\exp\\frac{-t^2}{2}dt &= \\frac{ab}{2\\sqrt{2 \\pi}} \\sqrt{2\\pi} \\text{erf} \\left( \\frac{P_B - a}{ \\sqrt{2(\\sigma^2 + b^2)}} \\right) \\nonumber\\\\\n",
    "    &= \\frac{ab}{2} \\text{erf} \\left( \\frac{P_B - a}{ \\sqrt{2(\\sigma^2 + b^2)}} \\right) \n",
    "\\end{align}\n",
    "$$"
   ]
  },
  {
   "cell_type": "code",
   "execution_count": 13,
   "metadata": {},
   "outputs": [],
   "source": [
    "#Numerical integration of the above equation\n",
    "def integrand_test_3(t,w_a,p_b,chi,sigma):\n",
    "    a = chi**2/(chi**2+sigma**2)*w_a\n",
    "    b = np.sqrt(chi**2*sigma**2/(chi**2+sigma**2))\n",
    "    return erf((P_B+b*t-a)/(sigma*np.sqrt(2)))*np.exp(-t**2/2)\n",
    "def exp_val_new_3(w_a,p_b,chi,sigma):\n",
    "    return quad(integrand_test_3,-np.inf,np.inf,args=(w_a,p_b,chi,sigma))"
   ]
  },
  {
   "cell_type": "code",
   "execution_count": 14,
   "metadata": {},
   "outputs": [],
   "source": [
    "#Analytically calculating the above equation\n",
    "def anal_exp_val_new_2_1(w_a,p_b,chi,sigma):\n",
    "    a = chi**2/(chi**2+sigma**2)*w_a\n",
    "    b = np.sqrt(chi**2*sigma**2/(chi**2+sigma**2))\n",
    "    #return a*b/2*erf((P_B-a)/(np.sqrt(2*(sigma**2+b**2))))\n",
    "    return a/2*erf((P_B-a)/(np.sqrt(2*(sigma**2+b**2))))"
   ]
  },
  {
   "cell_type": "code",
   "execution_count": 15,
   "metadata": {},
   "outputs": [
    {
     "name": "stdout",
     "output_type": "stream",
     "text": [
      "value of the equation using numerical integration is 0.7962640730231966\n",
      "Value of the equation using analytical formula 0.7962640730231967\n"
     ]
    }
   ],
   "source": [
    "a = chi**2/(chi**2+sigma**2)*w_a\n",
    "b = np.sqrt(chi**2*sigma**2/(chi**2+sigma**2))\n",
    "print(f'value of the equation using numerical integration is {exp_val_new_3(w_a,P_B,chi,sigma)[0]*(a)/(2*np.sqrt(2*np.pi))}')\n",
    "print(f'Value of the equation using analytical formula {anal_exp_val_new_2_1(w_a,P_B,chi,sigma)}')"
   ]
  },
  {
   "cell_type": "markdown",
   "metadata": {},
   "source": [
    "The solution to the second part of the equation is\n",
    "\n",
    "$$\\begin{align}\n",
    "    \\frac{b^2}{\\sqrt{2 \\pi}} \\int_R t \\frac{1}{2}\\text{erf}(\\frac{P_B +bt - a}{\\sigma \\sqrt{2}}) \\exp\\frac{-t^2}{2}dt &= \\frac{b^2}{\\sqrt{2 \\pi}}  \\frac{\\frac{b}{\\sigma \\sqrt{2}}}{\\frac{1}{2} \\sqrt{(\\frac{b}{\\sigma \\sqrt{2}})^2+\\frac{1}{2}}}\\exp \\left( - \\frac{\\frac{1}{2} \\beta^2 }{(\\frac{b}{\\sigma \\sqrt{2}})^2 + \\frac{1}{2}} \\right) \\nonumber \\\\\n",
    "    &= \\frac{b^2}{\\sqrt{2 \\pi}} \\frac{2b}{\\sqrt{b^2+\\sigma^2}}\\exp \\left( - \\frac{\\frac{1}{2} (\\frac{P_B - a}{\\sigma \\sqrt{2}})^2 }{\\frac{b^2 + \\sigma^2}{2 \\sigma^2}} \\right) \\nonumber \\\\\n",
    "    &=  \\frac{2b^3}{\\sqrt{2\\pi(b^2+\\sigma^2) }}\\exp \\left( - \\frac{ (P_B - a)^2}{2(b^2 + \\sigma^2)} \\right) \\nonumber \\\\\n",
    "\\end{align}\n",
    "$$"
   ]
  },
  {
   "cell_type": "code",
   "execution_count": 16,
   "metadata": {},
   "outputs": [],
   "source": [
    "#Numerical integration of the above equation\n",
    "def integrand_test_4(t,w_a,p_b,chi,sigma):\n",
    "    a = chi**2/(chi**2+sigma**2)*w_a\n",
    "    b = np.sqrt(chi**2*sigma**2/(chi**2+sigma**2))\n",
    "    return t* erf((p_b+b*t-a)/(sigma*np.sqrt(2)))*np.exp(-t**2/2)\n",
    "def exp_val_new_4(w_a,p_b,chi,sigma):\n",
    "    return quad(integrand_test_4,-np.inf,np.inf,args=(w_a,p_b,chi,sigma))"
   ]
  },
  {
   "cell_type": "code",
   "execution_count": 17,
   "metadata": {},
   "outputs": [],
   "source": [
    "#Analytically calculating the above equation\n",
    "def anal_exp_val_new_2_2(w_a,p_b,chi,sigma):\n",
    "    a = chi**2/(chi**2+sigma**2)*w_a\n",
    "    b = np.sqrt(chi**2*sigma**2/(chi**2+sigma**2))\n",
    "    return (b**2)/(np.sqrt(2*np.pi*(b**2 + sigma**2)))*np.exp(-(P_B-a)**2/(2*(b**2+sigma**2)))"
   ]
  },
  {
   "cell_type": "code",
   "execution_count": 18,
   "metadata": {},
   "outputs": [],
   "source": [
    "w_a = 5\n",
    "P_B = 1\n",
    "chi= 4\n",
    "sigma = 2"
   ]
  },
  {
   "cell_type": "code",
   "execution_count": 19,
   "metadata": {},
   "outputs": [
    {
     "name": "stdout",
     "output_type": "stream",
     "text": [
      "Value of the equation numerically calculated is 0.25465941948456333\n",
      "Value of the equation analytically calculated is 0.25465941948456344\n"
     ]
    }
   ],
   "source": [
    "a = chi**2/(chi**2+sigma**2)*w_a\n",
    "b = np.sqrt(chi**2*sigma**2/(chi**2+sigma**2))\n",
    "print(f'Value of the equation numerically calculated is {exp_val_new_4(w_a,P_B,chi,sigma)[0]*(b)/(2*np.sqrt(2*np.pi))}')\n",
    "print(f'Value of the equation analytically calculated is {anal_exp_val_new_2_2(w_a,P_B,chi,sigma)}')"
   ]
  },
  {
   "cell_type": "markdown",
   "metadata": {},
   "source": [
    "The denominator follows a Gaussian distribution with mean $\\frac{\\chi^2}{\\chi^2 + \\sigma^2}\\widehat{W^A_s}$ and variance $\\frac{\\sigma^4 + 2\\sigma^2\\chi^2}{\\chi^2 + \\sigma^2}$. The denominator can simply be calculated using the CDF of normal distribution.\n"
   ]
  },
  {
   "cell_type": "code",
   "execution_count": 28,
   "metadata": {},
   "outputs": [],
   "source": [
    "def anal_bayes(w_a,p_b,chi,sigma):\n",
    "    a = chi**2/(chi**2+sigma**2)*w_a\n",
    "    b = np.sqrt(chi**2*sigma**2/(chi**2+sigma**2))\n",
    "    return (anal_exp_val_new_1(w_a,P_B,chi,sigma) + anal_exp_val_new_2_1(w_a,p_b,chi,sigma)- anal_exp_val_new_2_2(w_a,p_b,chi,sigma))/denominator(w_a,p_b,chi,sigma) "
   ]
  },
  {
   "cell_type": "code",
   "execution_count": 29,
   "metadata": {},
   "outputs": [
    {
     "data": {
      "text/plain": [
       "np.float64(0.544891070162764)"
      ]
     },
     "execution_count": 29,
     "metadata": {},
     "output_type": "execute_result"
    }
   ],
   "source": [
    "anal_bayes(w_a,4,4,2)"
   ]
  },
  {
   "cell_type": "code",
   "execution_count": 30,
   "metadata": {},
   "outputs": [
    {
     "data": {
      "text/plain": [
       "np.float64(3.0484671380518553)"
      ]
     },
     "execution_count": 30,
     "metadata": {},
     "output_type": "execute_result"
    }
   ],
   "source": [
    "anal_cond_exp(w_a,4,4,2)"
   ]
  },
  {
   "cell_type": "code",
   "execution_count": 31,
   "metadata": {},
   "outputs": [
    {
     "data": {
      "text/plain": [
       "np.float64(3.048467138051853)"
      ]
     },
     "execution_count": 31,
     "metadata": {},
     "output_type": "execute_result"
    }
   ],
   "source": [
    "bayesian_est(w_a,4,4,2)"
   ]
  }
 ],
 "metadata": {
  "kernelspec": {
   "display_name": "usr",
   "language": "python",
   "name": "python3"
  },
  "language_info": {
   "codemirror_mode": {
    "name": "ipython",
    "version": 3
   },
   "file_extension": ".py",
   "mimetype": "text/x-python",
   "name": "python",
   "nbconvert_exporter": "python",
   "pygments_lexer": "ipython3",
   "version": "3.12.5"
  }
 },
 "nbformat": 4,
 "nbformat_minor": 2
}
