{
 "cells": [
  {
   "cell_type": "code",
   "execution_count": null,
   "metadata": {},
   "outputs": [],
   "source": [
    "from param_def import chi,sigma,prop_gp,capacities_rate,prop_all_g_prefer,capacities,lambdas\n",
    "import numpy as np\n",
    "from util import welfare_metrics,student_by_col,bayes_update_grade,grades_gr_to_grades_col\n",
    "from itertools import compress\n",
    "# Import HyperOpt Library\n",
    "from hyperopt import tpe, hp, fmin\n",
    "import numpy as np\n",
    "from BayesEst import bayesian_est,anal_cond_exp\n",
    "from scipy.optimize import fsolve\n",
    "from scipy.stats import norm, multivariate_normal\n",
    "from param_def import chi,sigma,lambdas"
   ]
  },
  {
   "cell_type": "code",
   "execution_count": null,
   "metadata": {},
   "outputs": [],
   "source": [
    "grade_estimated_gr = []\n",
    "for i in range(len(chi)):\n",
    "    grade_estimated_gr.append(np.load(f'grade_estimated_gr{i+1}.npy'))\n",
    "grade_estimated = grades_gr_to_grades_col(grade_estimated_gr)\n",
    "#%%\n",
    "stud_pref = []\n",
    "for i in range(len(chi)):\n",
    "    stud_pref.append(np.load(f'stud_pref_gr{i+1}.npy').tolist())"
   ]
  },
  {
   "cell_type": "code",
   "execution_count": null,
   "metadata": {},
   "outputs": [],
   "source": [
    "def cdf(x, sigma):\n",
    "    return norm.cdf(x, scale = sigma)"
   ]
  },
  {
   "cell_type": "code",
   "execution_count": null,
   "metadata": {},
   "outputs": [],
   "source": [
    "def cdfm(x, y, sigma, rho):\n",
    "    return multivariate_normal([0, 0], [[sigma**2, sigma**2 * rho], [sigma**2 * rho, sigma**2]]).cdf(np.array([x,y]))"
   ]
  },
  {
   "cell_type": "code",
   "execution_count": null,
   "metadata": {},
   "outputs": [],
   "source": [
    "def cdfmsi(x, y, sigma, rho):\n",
    "    return norm.cdf(y, scale = sigma) - multivariate_normal([0, 0], [[sigma**2, sigma**2 * rho], [sigma**2 * rho, sigma**2]]).cdf(np.array([x,y]))"
   ]
  },
  {
   "cell_type": "code",
   "execution_count": null,
   "metadata": {},
   "outputs": [],
   "source": [
    "def cdfmis(x, y, sigma, rho):\n",
    "    return norm.cdf(x, scale = sigma) - multivariate_normal([0, 0], [[sigma**2, sigma**2 * rho], [sigma**2 * rho, sigma**2]]).cdf(np.array([x,y]))"
   ]
  },
  {
   "cell_type": "code",
   "execution_count": null,
   "metadata": {},
   "outputs": [],
   "source": [
    "df1 = pd.DataFrame({'A':updated_grade_estimated[0][0],'B':updated_grade_estimated[1][0],'pref':np.array(stud_pref[0]).T[0]})\n",
    "df2 = pd.DataFrame({'A':updated_grade_estimated[0][1],'B':updated_grade_estimated[1][1],'pref':np.array(stud_pref[1]).T[0]})"
   ]
  },
  {
   "cell_type": "markdown",
   "metadata": {},
   "source": [
    "**Check if empirical count is equal to ECDF and EPDF (this should be equal)**"
   ]
  },
  {
   "cell_type": "code",
   "execution_count": null,
   "metadata": {},
   "outputs": [],
   "source": [
    "gr1_ecdf_pb,gr2_ecdf_pb,multi_ecdf_gr1,multi_ecdf_gr2= sampling_ecdf(grade_estimated,stud_pref,new_cutoff_values[0],new_cutoff_values[1],chi,sigma,lambdas ,type = 'right_partial')"
   ]
  },
  {
   "cell_type": "markdown",
   "metadata": {},
   "source": [
    "$P_1(W_A > P_A),P_2(W_A > P_A)$"
   ]
  },
  {
   "cell_type": "code",
   "execution_count": null,
   "metadata": {},
   "outputs": [
    {
     "name": "stdout",
     "output_type": "stream",
     "text": [
      "Group 1: 0.2865\n",
      "Group 2: 0.28941666666666666\n"
     ]
    }
   ],
   "source": [
    "#Empirical counting of gr1 and gr2\n",
    "print('Group 1:', len(df1.loc[df1['A']>new_cutoff_values[0]])/len(df1))\n",
    "print('Group 2:', len(df2.loc[df2['A']>new_cutoff_values[0]])/len(df2))"
   ]
  },
  {
   "cell_type": "code",
   "execution_count": null,
   "metadata": {},
   "outputs": [
    {
     "name": "stdout",
     "output_type": "stream",
     "text": [
      "Group 1: 0.2840824007231191\n",
      "Group 2: 0.2840824007231191\n"
     ]
    }
   ],
   "source": [
    "#Theoretical value of gr1 and gr 2\n",
    "print('Group 1:', 1 - cdf(new_cutoff_values[0],sigma_i))\n",
    "print('Group 2:', 1 - cdf(new_cutoff_values[0],sigma_ii))\n"
   ]
  },
  {
   "cell_type": "markdown",
   "metadata": {},
   "source": [
    "It's not that much difference, this difference is acceptable."
   ]
  },
  {
   "cell_type": "markdown",
   "metadata": {},
   "source": [
    "$P_1(W_B > P_B), P_2(W_B >P_B)$.  Here we update part of $W_B$ based on student preference."
   ]
  },
  {
   "cell_type": "code",
   "execution_count": null,
   "metadata": {},
   "outputs": [
    {
     "name": "stdout",
     "output_type": "stream",
     "text": [
      "Group 1: 0.261625\n",
      "Group 2: 0.2523333333333333\n"
     ]
    }
   ],
   "source": [
    "print('Group 1:', 1 - gr1_ecdf_pb)\n",
    "print('Group 2:', 1 - gr2_ecdf_pb)"
   ]
  },
  {
   "cell_type": "code",
   "execution_count": null,
   "metadata": {},
   "outputs": [
    {
     "name": "stdout",
     "output_type": "stream",
     "text": [
      "Group 1: 0.261625\n",
      "Group 2: 0.25233333333333335\n"
     ]
    }
   ],
   "source": [
    "print('Group 1:', len(df1.loc[df1['B']>new_cutoff_values[1]])/len(df1))\n",
    "print('Group 2:', len(df2.loc[df2['B']>new_cutoff_values[1]])/len(df2))"
   ]
  },
  {
   "cell_type": "markdown",
   "metadata": {},
   "source": [
    "The result is not really surprised considering the fact that the CDF in the value is basically empirical base on the same data as the data being used in the empirical counting."
   ]
  },
  {
   "cell_type": "markdown",
   "metadata": {},
   "source": [
    "$P_1(W_A>P_A,W_B<P_B),P_2(W_A>P_A,W_B<P_B)$"
   ]
  },
  {
   "cell_type": "code",
   "execution_count": null,
   "metadata": {},
   "outputs": [
    {
     "name": "stdout",
     "output_type": "stream",
     "text": [
      "Group 1: 0.1481987720284964\n",
      "Group 2: 0.14113387773241126\n"
     ]
    }
   ],
   "source": [
    "#Theoretical \n",
    "print('Group 1:', gr1_ecdf_pb - multi_ecdf_gr1)\n",
    "print('Group 2:', gr2_ecdf_pb - multi_ecdf_gr2)"
   ]
  },
  {
   "cell_type": "code",
   "execution_count": null,
   "metadata": {},
   "outputs": [
    {
     "name": "stdout",
     "output_type": "stream",
     "text": [
      "Group 1: 0.148125\n",
      "Group 2: 0.14108333333333334\n"
     ]
    }
   ],
   "source": [
    "#Empirical counting\n",
    "print('Group 1:', len(df1.loc[(df1['B'] < new_cutoff_values[1])&(df1['A'] > new_cutoff_values[0])])/len(df1))\n",
    "print('Group 2:', len(df2.loc[(df2['B'] < new_cutoff_values[1])&(df2['A'] > new_cutoff_values[0])])/len(df2))"
   ]
  },
  {
   "cell_type": "markdown",
   "metadata": {},
   "source": [
    "The results are closed enough"
   ]
  },
  {
   "cell_type": "markdown",
   "metadata": {},
   "source": [
    "$P_1(W_A < P_A,W_B > P_B),P_2(W_A < P_A, W_B > P_B)$"
   ]
  },
  {
   "cell_type": "code",
   "execution_count": null,
   "metadata": {},
   "outputs": [
    {
     "name": "stdout",
     "output_type": "stream",
     "text": [
      "Group 1: 0.12574137130537733\n",
      "Group 2: 0.10938481034262548\n"
     ]
    }
   ],
   "source": [
    "#Theoretical\n",
    "print('Group 1:', cdf(new_cutoff_values[0],sigma_i) - multi_ecdf_gr1)\n",
    "print('Group 2:', cdf(new_cutoff_values[0],sigma_ii) - multi_ecdf_gr2)"
   ]
  },
  {
   "cell_type": "code",
   "execution_count": null,
   "metadata": {},
   "outputs": [
    {
     "name": "stdout",
     "output_type": "stream",
     "text": [
      "Group 1: 0.12325\n",
      "Group 1: 0.104\n"
     ]
    }
   ],
   "source": [
    "#Empirical counting\n",
    "print('Group 1:', len(df1.loc[(df1['B'] > new_cutoff_values[1])&(df1['A'] < new_cutoff_values[0])])/len(df1))\n",
    "print('Group 1:', len(df2.loc[(df2['B'] > new_cutoff_values[1])&(df2['A'] < new_cutoff_values[0])])/len(df2))"
   ]
  },
  {
   "cell_type": "markdown",
   "metadata": {},
   "source": [
    "The difference in the results are acceptable."
   ]
  },
  {
   "cell_type": "markdown",
   "metadata": {},
   "source": [
    "Earlier, we were only interested in the overall level without accounting for preference. Now we need to take the prefernce into consideration. We want to check whether or not the value $\\gamma_j (\\beta_j /1 - \\beta_j)$ is equal to the empirical counting of the mass of all student belong to group $j$ and interested in $A (B)$. "
   ]
  },
  {
   "cell_type": "code",
   "execution_count": null,
   "metadata": {},
   "outputs": [
    {
     "name": "stdout",
     "output_type": "stream",
     "text": [
      "Group 1 interested in A: 0.16000000000000003\n",
      "Group 1 interested in B: 0.24\n",
      "Group 2 interested in A: 0.24\n",
      "Group 2 interested in B: 0.36\n"
     ]
    }
   ],
   "source": [
    "#Theoretical\n",
    "print('Group 1 interested in A:', prop_gp[0]*prop_all_g_prefer[0])\n",
    "print('Group 1 interested in B:', prop_gp[0]*(1-prop_all_g_prefer[0]))\n",
    "print('Group 2 interested in A:', prop_gp[1]*prop_all_g_prefer[1])\n",
    "print('Group 2 interested in B:', prop_gp[1]*(1-prop_all_g_prefer[1]))"
   ]
  },
  {
   "cell_type": "code",
   "execution_count": null,
   "metadata": {},
   "outputs": [
    {
     "name": "stdout",
     "output_type": "stream",
     "text": [
      "Group 1 interested in A: 0.16225\n",
      "Group 1 interested in B: 0.23775\n",
      "Group 2 interested in A: 0.2401\n",
      "Group 2 interested in B: 0.3599\n"
     ]
    }
   ],
   "source": [
    "#Empirical\n",
    "print('Group 1 interested in A:', len(df1.loc[df1['pref']==0])/20000)\n",
    "print('Group 1 interested in B:', len(df1.loc[df1['pref']==1])/20000)\n",
    "print('Group 2 interested in A:', len(df2.loc[df2['pref']==0])/20000)\n",
    "print('Group 2 interested in B:', len(df2.loc[df2['pref']==1])/20000)"
   ]
  },
  {
   "cell_type": "markdown",
   "metadata": {},
   "source": [
    "The difference in results are acceptable."
   ]
  },
  {
   "cell_type": "markdown",
   "metadata": {},
   "source": [
    "Now we want to check whether or not the theoretical value $\\gamma_j * \\beta_j * P_j(W_A > P_A)$,$\\gamma_j * (1-\\beta_j)*P_J(W_A > P_A,W_B < P_B)$ is equal to the empirical counting"
   ]
  },
  {
   "cell_type": "code",
   "execution_count": null,
   "metadata": {},
   "outputs": [
    {
     "name": "stdout",
     "output_type": "stream",
     "text": [
      "Group 1 get first choice and pref A as proportion of total mass: 0.04545318411569906\n",
      "Group 1 get first choice and pref A as absolute number of student: 909.0636823139812\n",
      "Group 2 get first choice and pref A as proportion of total mass: 0.06817977617354858\n",
      "Group 2 get first choice and pref A as absolute number of student: 1363.5955234709716\n"
     ]
    }
   ],
   "source": [
    "#Theoretical\n",
    "print('Group 1 get first choice and pref A as proportion of total mass:', prop_gp[0]*prop_all_g_prefer[0]*(1- cdf(new_cutoff_values[0],sigma_i)))\n",
    "print('Group 1 get first choice and pref A as absolute number of student:', prop_gp[0]*prop_all_g_prefer[0]*(1- cdf(new_cutoff_values[0],sigma_i))*20000)\n",
    "print('Group 2 get first choice and pref A as proportion of total mass:', prop_gp[1]*prop_all_g_prefer[1]*(1- cdf(new_cutoff_values[0],sigma_ii)))\n",
    "print('Group 2 get first choice and pref A as absolute number of student:', prop_gp[1]*prop_all_g_prefer[1]*(1- cdf(new_cutoff_values[0],sigma_ii))*20000)"
   ]
  },
  {
   "cell_type": "code",
   "execution_count": null,
   "metadata": {},
   "outputs": [
    {
     "name": "stdout",
     "output_type": "stream",
     "text": [
      "Group 1 get first choice and pref A as proportion of total mass: 0.04815\n",
      "Group 1 get first choice and pref A as absolute number of student: 963\n",
      "Group 2 get first choice and pref A as proportion of total mass: 0.06785\n",
      "Group 2 get first choice and pref A as absolute number of student: 1357\n"
     ]
    }
   ],
   "source": [
    "#Empirical\n",
    "print('Group 1 get first choice and pref A as proportion of total mass:', len(df1.loc[(df1['A'] > new_cutoff_values[0])&(df1['pref']==0)])/20000)\n",
    "print('Group 1 get first choice and pref A as absolute number of student:', len(df1.loc[(df1['A'] > new_cutoff_values[0])&(df1['pref']==0)]))\n",
    "print('Group 2 get first choice and pref A as proportion of total mass:', len(df2.loc[(df2['A'] > new_cutoff_values[0])&(df2['pref']==0)])/20000)\n",
    "print('Group 2 get first choice and pref A as absolute number of student:', len(df2.loc[(df2['A'] > new_cutoff_values[0])&(df2['pref']==0)]))"
   ]
  },
  {
   "cell_type": "code",
   "execution_count": null,
   "metadata": {},
   "outputs": [
    {
     "name": "stdout",
     "output_type": "stream",
     "text": [
      "Group 1 get second choice and pref B as proportion of total mass: 0.035567705286839134\n",
      "Group 1 get second choice and pref B as absolute number of student: 711.3541057367827\n",
      "Group 2 get second choice and pref B as proportion of total mass: 0.05080819598366805\n",
      "Group 2 get second choice and pref B as absolute number of student: 1016.163919673361\n"
     ]
    }
   ],
   "source": [
    "#Theoretical\n",
    "print('Group 1 get second choice and pref B as proportion of total mass:', prop_gp[0]*(1-prop_all_g_prefer[0])*(gr1_ecdf_pb- multi_ecdf_gr1))\n",
    "print('Group 1 get second choice and pref B as absolute number of student:', prop_gp[0]*(1-prop_all_g_prefer[0])*(gr1_ecdf_pb- multi_ecdf_gr1)*20000)\n",
    "print('Group 2 get second choice and pref B as proportion of total mass:', prop_gp[1]*(1-prop_all_g_prefer[1])*(gr2_ecdf_pb- multi_ecdf_gr2))\n",
    "print('Group 2 get second choice and pref B as absolute number of student:', prop_gp[1]*(1-prop_all_g_prefer[1])*(gr2_ecdf_pb- multi_ecdf_gr2)*20000)"
   ]
  },
  {
   "cell_type": "code",
   "execution_count": null,
   "metadata": {},
   "outputs": [
    {
     "name": "stdout",
     "output_type": "stream",
     "text": [
      "Group 1 get second choice and pref B as proportion of total mass: 0.04305\n",
      "Group 1 get second choice and pref B as absolute number of student: 861\n",
      "Group 2 get second choice and pref B as proportion of total mass: 0.06535\n",
      "Group 2 get second choice and pref B as absolute number of student: 1307\n"
     ]
    }
   ],
   "source": [
    "#Empirical\n",
    "print('Group 1 get second choice and pref B as proportion of total mass:', len(df1.loc[(df1['A'] > new_cutoff_values[0])&(df1['pref']==1)&(df1['B']<new_cutoff_values[1])])/20000)\n",
    "print('Group 1 get second choice and pref B as absolute number of student:', len(df1.loc[(df1['A'] > new_cutoff_values[0])&(df1['pref']==1)&(df1['B']<new_cutoff_values[1])]))\n",
    "print('Group 2 get second choice and pref B as proportion of total mass:', len(df2.loc[(df2['A'] > new_cutoff_values[0])&(df2['pref']==1)&(df2['B']<new_cutoff_values[1])])/20000)\n",
    "print('Group 2 get second choice and pref B as absolute number of student:', len(df2.loc[(df2['A'] > new_cutoff_values[0])&(df2['pref']==1)&(df2['B']<new_cutoff_values[1])]))"
   ]
  },
  {
   "cell_type": "code",
   "execution_count": null,
   "metadata": {},
   "outputs": [],
   "source": [
    "from util import market_clear_noise_corr\n",
    "Pa = new_cutoff_values[0]\n",
    "Pb = new_cutoff_values[1]\n",
    "prop = prop_gp[0]\n",
    "prefi = prop_all_g_prefer[0]\n",
    "prefii = prop_all_g_prefer[1]\n",
    "capA = capacities_rate[0]\n",
    "capB = capacities_rate[1]"
   ]
  },
  {
   "cell_type": "code",
   "execution_count": null,
   "metadata": {},
   "outputs": [],
   "source": [
    "f1,f2 = market_clear_noise_corr(new_cutoff_values[0], new_cutoff_values[1], grade_estimated, stud_pref, prop_gp[0], capacities_rate[0], capacities_rate[1], prop_all_g_prefer[0], prop_all_g_prefer[1], sigma_i, sigma_ii, cor_i, cor_ii,chi,sigma,lambdas,bayes='right_partial')\n"
   ]
  },
  {
   "cell_type": "code",
   "execution_count": null,
   "metadata": {},
   "outputs": [
    {
     "name": "stdout",
     "output_type": "stream",
     "text": [
      "8.861559754824722e-06 9.738910904666387e-07\n"
     ]
    }
   ],
   "source": [
    "print(f1,f2)"
   ]
  }
 ],
 "metadata": {
  "language_info": {
   "name": "python"
  }
 },
 "nbformat": 4,
 "nbformat_minor": 2
}
