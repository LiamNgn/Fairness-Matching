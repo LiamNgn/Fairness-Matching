{
 "cells": [
  {
   "cell_type": "code",
   "execution_count": 1,
   "metadata": {},
   "outputs": [],
   "source": [
    "from param_def import chi,sigma,prop_gp,capacities_rate,prop_all_g_prefer,capacities,lambdas\n",
    "import numpy as np\n",
    "from util import welfare_metrics,student_by_col,bayes_update_grade,grades_gr_to_grades_col\n",
    "from itertools import compress\n",
    "# Import HyperOpt Library\n",
    "from hyperopt import tpe, hp, fmin\n",
    "import numpy as np\n",
    "from BayesEst import bayesian_est\n",
    "from scipy.optimize import fsolve\n",
    "from scipy.stats import norm, multivariate_normal"
   ]
  },
  {
   "cell_type": "code",
   "execution_count": 2,
   "metadata": {},
   "outputs": [
    {
     "name": "stdout",
     "output_type": "stream",
     "text": [
      "[0.2, 0.2]\n"
     ]
    }
   ],
   "source": [
    "print(capacities_rate)"
   ]
  },
  {
   "cell_type": "code",
   "execution_count": 3,
   "metadata": {},
   "outputs": [],
   "source": [
    "grade_estimated_gr = []\n",
    "for i in range(len(chi)):\n",
    "    grade_estimated_gr.append(np.load(f'grade_estimated_gr{i+1}.npy'))\n",
    "grade_estimated = grades_gr_to_grades_col(grade_estimated_gr)\n",
    "#%%\n",
    "stud_pref = []\n",
    "for i in range(len(chi)):\n",
    "    stud_pref.append(np.load(f'stud_pref_gr{i+1}.npy').tolist())"
   ]
  },
  {
   "cell_type": "code",
   "execution_count": 4,
   "metadata": {},
   "outputs": [],
   "source": [
    "def cdf(x, sigma):\n",
    "    return norm.cdf(x, scale = sigma)"
   ]
  },
  {
   "cell_type": "code",
   "execution_count": 5,
   "metadata": {},
   "outputs": [],
   "source": [
    "def cdfm(x, y, sigma, rho):\n",
    "    return multivariate_normal([0, 0], [[sigma**2, sigma**2 * rho], [sigma**2 * rho, sigma**2]]).cdf(np.array([x,y]))"
   ]
  },
  {
   "cell_type": "code",
   "execution_count": 6,
   "metadata": {},
   "outputs": [],
   "source": [
    "def cdfmsi(x, y, sigma, rho):\n",
    "    return norm.cdf(y, scale = sigma) - multivariate_normal([0, 0], [[sigma**2, sigma**2 * rho], [sigma**2 * rho, sigma**2]]).cdf(np.array([x,y]))"
   ]
  },
  {
   "cell_type": "code",
   "execution_count": 7,
   "metadata": {},
   "outputs": [],
   "source": [
    "def cdfmis(x, y, sigma, rho):\n",
    "    return norm.cdf(x, scale = sigma) - multivariate_normal([0, 0], [[sigma**2, sigma**2 * rho], [sigma**2 * rho, sigma**2]]).cdf(np.array([x,y]))"
   ]
  },
  {
   "cell_type": "code",
   "execution_count": 8,
   "metadata": {},
   "outputs": [],
   "source": [
    "def market_clear(Pa, Pb, prop, capA, capB, prefi, prefii, sigmai, sigmaii, cori, corii):\n",
    "    f1 = prop*prefi*(1 - cdf(Pa, sigmai)) + (1 - prop)*prefii*(1 - cdf(Pa, sigmaii)) + prop*(1 - prefi)*cdfmsi(Pa, Pb, sigmai, cori) + (1 -prop)*(1 - prefii)*cdfmsi(Pa, Pb, sigmaii, corii) - capA\n",
    "    f2 = prop*(1 - prefi)*(1 - cdf(Pb, sigmai)) + (1 - prop)*(1 - prefii)*(1 - cdf(Pb, sigmaii)) + prop*prefi*cdfmis(Pa, Pb, sigmai, cori) + (1 -prop)*prefii*cdfmis(Pa, Pb, sigmaii, corii) - capB\n",
    "    return f1, f2"
   ]
  },
  {
   "cell_type": "code",
   "execution_count": 9,
   "metadata": {},
   "outputs": [],
   "source": [
    "def solv_mc(prop, capA, capB, prefi, prefii, sigmai, sigmaii, cori, corii):\n",
    "    func = lambda P: market_clear(P[0], P[1], prop, capA, capB, prefi, prefii, sigmai, sigmaii, cori, corii)\n",
    "    return fsolve(func, x0 = np.array([0, 0]))"
   ]
  },
  {
   "cell_type": "code",
   "execution_count": 10,
   "metadata": {},
   "outputs": [],
   "source": [
    "sigma_i = np.sqrt(chi[0]**2 + sigma[0]**2)\n",
    "sigma_ii = np.sqrt(chi[1]**2 + sigma[1]**2)\n",
    "cor_i = chi[0]**2/sigma_i**2\n",
    "cor_ii = chi[1]**2/sigma_ii**2"
   ]
  },
  {
   "cell_type": "code",
   "execution_count": 11,
   "metadata": {},
   "outputs": [
    {
     "name": "stdout",
     "output_type": "stream",
     "text": [
      "0.4999999999999999 0.4999999999999999\n"
     ]
    }
   ],
   "source": [
    "print(cor_i,cor_ii)"
   ]
  },
  {
   "cell_type": "code",
   "execution_count": 12,
   "metadata": {},
   "outputs": [],
   "source": [
    "P_A,P_B = solv_mc(prop_gp[0],capacities_rate[0],capacities_rate[1],\n",
    "                  prop_all_g_prefer[0],prop_all_g_prefer[1],sigma_i,sigma_ii,cor_i,cor_ii)\n"
   ]
  },
  {
   "cell_type": "code",
   "execution_count": 13,
   "metadata": {},
   "outputs": [],
   "source": [
    "cutoff_values = [P_A,P_B]"
   ]
  },
  {
   "cell_type": "code",
   "execution_count": 14,
   "metadata": {},
   "outputs": [
    {
     "data": {
      "text/plain": [
       "(np.float64(1.6610871399250278), np.float64(1.8869875908985916))"
      ]
     },
     "execution_count": 14,
     "metadata": {},
     "output_type": "execute_result"
    }
   ],
   "source": [
    "P_A,P_B"
   ]
  },
  {
   "cell_type": "code",
   "execution_count": 15,
   "metadata": {},
   "outputs": [
    {
     "name": "stdout",
     "output_type": "stream",
     "text": [
      "Proportion of students in group 0 with no offer 0.70\n",
      "Proportion of students in group 0 with only a second preference offer 0.07\n",
      "Proportion of students in group 0 with first choice offer 0.23\n",
      "Proportion of students in group 1 with no offer 0.68\n",
      "Proportion of students in group 1 with only a second preference offer 0.09\n",
      "Proportion of students in group 1 with first choice offer 0.23\n"
     ]
    }
   ],
   "source": [
    "welfare_metrics(cutoff_values,grade_estimated,stud_pref)"
   ]
  },
  {
   "cell_type": "code",
   "execution_count": 16,
   "metadata": {},
   "outputs": [
    {
     "name": "stdout",
     "output_type": "stream",
     "text": [
      "Number of student admitted to college 1 in group 0: 863\n",
      "Number of student admitted to college 2 in group 0: 923\n",
      "Number of student admitted to college 1 in group 1: 1424\n",
      "Number of student admitted to college 2 in group 1: 1420\n"
     ]
    },
    {
     "data": {
      "text/plain": [
       "(2287, 2343)"
      ]
     },
     "execution_count": 16,
     "metadata": {},
     "output_type": "execute_result"
    }
   ],
   "source": [
    "student_by_col(cutoff_values,grade_estimated,stud_pref)"
   ]
  },
  {
   "cell_type": "code",
   "execution_count": 17,
   "metadata": {},
   "outputs": [
    {
     "name": "stdout",
     "output_type": "stream",
     "text": [
      "[2976, 2976]\n"
     ]
    }
   ],
   "source": [
    "print(capacities)"
   ]
  },
  {
   "cell_type": "code",
   "execution_count": 18,
   "metadata": {},
   "outputs": [
    {
     "data": {
      "text/plain": [
       "[1.176513, 0.10931724]"
      ]
     },
     "execution_count": 18,
     "metadata": {},
     "output_type": "execute_result"
    }
   ],
   "source": [
    "new_cutoff_values = [1.176513,0.10931724]\n",
    "new_cutoff_values"
   ]
  },
  {
   "cell_type": "code",
   "execution_count": 19,
   "metadata": {},
   "outputs": [],
   "source": [
    "updated_grade_estimated = bayes_update_grade(new_cutoff_values[0],new_cutoff_values[1],grade_estimated,chi,sigma,lambdas,bayes_type='right')"
   ]
  },
  {
   "cell_type": "code",
   "execution_count": 22,
   "metadata": {},
   "outputs": [],
   "source": [
    "##    \n",
    "# grade_estimated should have the following form \n",
    "# [[[-3.62656622994722, 2.1811620120023885, \n",
    "# -11.563939588668866, 9.522766463940787], \n",
    "# [-2.140950614292475, -3.1545339753546977, \n",
    "# 0.2686527056082677, -0.6574626041532636, \n",
    "# -2.252868772168457, 1.8937660992816987]], \n",
    "# [[-5.268780813142571, -0.8191620654894043, \n",
    "# -9.60125782299109, 7.9126466724151605], \n",
    "# [-3.9756947771758844, -2.6409442009387023, \n",
    "# 4.086647894727917, -1.357128391535272, \n",
    "# 0.8661128454577303, 0.9586986061854232]]] \n",
    "# with 2 groups, 2 colleges, group 1 has 4 students, \n",
    "# group 2 has 6 students.\n",
    "# updated_grade_estimate should have the same form as grade_estimated"
   ]
  },
  {
   "cell_type": "code",
   "execution_count": 20,
   "metadata": {},
   "outputs": [
    {
     "name": "stdout",
     "output_type": "stream",
     "text": [
      "Proportion of students in group 0 with no offer 0.62\n",
      "Proportion of students in group 0 with only a second preference offer 0.08\n",
      "Proportion of students in group 0 with first choice offer 0.30\n",
      "Proportion of students in group 1 with no offer 0.60\n",
      "Proportion of students in group 1 with only a second preference offer 0.10\n",
      "Proportion of students in group 1 with first choice offer 0.30\n"
     ]
    }
   ],
   "source": [
    "welfare_metrics(new_cutoff_values,updated_grade_estimated,stud_pref)"
   ]
  },
  {
   "cell_type": "code",
   "execution_count": 21,
   "metadata": {},
   "outputs": [
    {
     "name": "stdout",
     "output_type": "stream",
     "text": [
      "Number of student admitted to college 1 in group 0: 1062\n",
      "Number of student admitted to college 2 in group 0: 1227\n",
      "Number of student admitted to college 1 in group 1: 1715\n",
      "Number of student admitted to college 2 in group 1: 1865\n"
     ]
    },
    {
     "data": {
      "text/plain": [
       "(2777, 3092)"
      ]
     },
     "execution_count": 21,
     "metadata": {},
     "output_type": "execute_result"
    }
   ],
   "source": [
    "student_by_col(new_cutoff_values,updated_grade_estimated,stud_pref)"
   ]
  },
  {
   "cell_type": "code",
   "execution_count": null,
   "metadata": {},
   "outputs": [],
   "source": []
  },
  {
   "cell_type": "code",
   "execution_count": null,
   "metadata": {},
   "outputs": [],
   "source": []
  }
 ],
 "metadata": {
  "kernelspec": {
   "display_name": "Python 3",
   "language": "python",
   "name": "python3"
  },
  "language_info": {
   "codemirror_mode": {
    "name": "ipython",
    "version": 3
   },
   "file_extension": ".py",
   "mimetype": "text/x-python",
   "name": "python",
   "nbconvert_exporter": "python",
   "pygments_lexer": "ipython3",
   "version": "3.12.6"
  }
 },
 "nbformat": 4,
 "nbformat_minor": 2
}
