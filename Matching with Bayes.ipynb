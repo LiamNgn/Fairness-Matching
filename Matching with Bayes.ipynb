{
 "cells": [
  {
   "cell_type": "code",
   "execution_count": 1,
   "metadata": {},
   "outputs": [],
   "source": [
    "from param_def import chi,sigma,prop_gp,capacities_rate,prop_all_g_prefer,capacities\n",
    "import numpy as np\n",
    "from util import *\n",
    "from itertools import compress\n",
    "# Import HyperOpt Library\n",
    "from hyperopt import tpe, hp, fmin\n",
    "import numpy as np\n",
    "from BayesEst import bayesian_est"
   ]
  },
  {
   "cell_type": "code",
   "execution_count": 2,
   "metadata": {},
   "outputs": [
    {
     "name": "stdout",
     "output_type": "stream",
     "text": [
      "[0.4, 0.4]\n"
     ]
    }
   ],
   "source": [
    "print(capacities_rate)"
   ]
  },
  {
   "cell_type": "code",
   "execution_count": 3,
   "metadata": {},
   "outputs": [],
   "source": [
    "grade_estimated_gr = []\n",
    "for i in range(len(chi)):\n",
    "    grade_estimated_gr.append(np.load(f'grade_estimated_gr{i+1}.npy'))\n",
    "grade_estimated = grades_gr_to_grades_col(grade_estimated_gr)\n",
    "#%%\n",
    "stud_pref = []\n",
    "for i in range(len(chi)):\n",
    "    stud_pref.append(np.load(f'stud_pref_gr{i+1}.npy').tolist())"
   ]
  },
  {
   "cell_type": "code",
   "execution_count": 4,
   "metadata": {},
   "outputs": [],
   "source": [
    "def market_clear(Pa, Pb, prop, capA, capB, prefi, prefii, sigmai, sigmaii, cori, corii):\n",
    "    f1 = prop*prefi*(1 - cdf(Pa, sigmai)) + (1 - prop)*prefii*(1 - cdf(Pa, sigmaii)) + prop*(1 - prefi)*cdfmsi(Pa, Pb, sigmai, cori) + (1 -prop)*(1 - prefii)*cdfmsi(Pa, Pb, sigmaii, corii) - capA\n",
    "    f2 = prop*(1 - prefi)*(1 - cdf(Pb, sigmai)) + (1 - prop)*(1 - prefii)*(1 - cdf(Pb, sigmaii)) + prop*prefi*cdfmis(Pa, Pb, sigmai, cori) + (1 -prop)*prefii*cdfmis(Pa, Pb, sigmaii, corii) - capB\n",
    "    return f1, f2"
   ]
  },
  {
   "cell_type": "code",
   "execution_count": 5,
   "metadata": {},
   "outputs": [],
   "source": [
    "def solv_mc(prop, capA, capB, prefi, prefii, sigmai, sigmaii, cori, corii):\n",
    "    func = lambda P: market_clear(P[0], P[1], prop, capA, capB, prefi, prefii, sigmai, sigmaii, cori, corii)\n",
    "    return fsolve(func, x0 = np.array([0.5, 0.5]))"
   ]
  },
  {
   "cell_type": "code",
   "execution_count": 6,
   "metadata": {},
   "outputs": [],
   "source": [
    "sigma_i = np.sqrt(chi[0]**2 + sigma[0]**2)\n",
    "sigma_ii = np.sqrt(chi[1]**2 + sigma[1]**2)\n",
    "cor_i = chi[0]**2/sigma_i**2\n",
    "cor_ii = chi[1]**2/sigma_ii**2"
   ]
  },
  {
   "cell_type": "code",
   "execution_count": 7,
   "metadata": {},
   "outputs": [
    {
     "name": "stdout",
     "output_type": "stream",
     "text": [
      "0.8999999999999998 0.4999999999999999\n"
     ]
    }
   ],
   "source": [
    "print(cor_i,cor_ii)"
   ]
  },
  {
   "cell_type": "code",
   "execution_count": 8,
   "metadata": {},
   "outputs": [],
   "source": [
    "P_A,P_B = solv_mc(prop_gp[0],capacities_rate[0],capacities_rate[1],\n",
    "                  prop_all_g_prefer[0],prop_all_g_prefer[1],sigma_i,sigma_ii,cor_i,cor_ii)\n"
   ]
  },
  {
   "cell_type": "code",
   "execution_count": 9,
   "metadata": {},
   "outputs": [],
   "source": [
    "cutoff_values = [P_A,P_B]"
   ]
  },
  {
   "cell_type": "code",
   "execution_count": 10,
   "metadata": {},
   "outputs": [
    {
     "data": {
      "text/plain": [
       "(np.float64(-2.394683959950654), np.float64(-1.1792879240188))"
      ]
     },
     "execution_count": 10,
     "metadata": {},
     "output_type": "execute_result"
    }
   ],
   "source": [
    "P_A,P_B"
   ]
  },
  {
   "cell_type": "code",
   "execution_count": 11,
   "metadata": {},
   "outputs": [
    {
     "name": "stdout",
     "output_type": "stream",
     "text": [
      "Proportion of students in group 0 with no offer 0.31\n",
      "Proportion of students in group 0 with only a second preference offer 0.09\n",
      "Proportion of students in group 0 with first choice offer 0.60\n",
      "Proportion of students in group 1 with no offer 0.12\n",
      "Proportion of students in group 1 with only a second preference offer 0.17\n",
      "Proportion of students in group 1 with first choice offer 0.71\n"
     ]
    }
   ],
   "source": [
    "welfare_metrics(cutoff_values,grade_estimated,stud_pref)"
   ]
  },
  {
   "cell_type": "code",
   "execution_count": 12,
   "metadata": {},
   "outputs": [
    {
     "name": "stdout",
     "output_type": "stream",
     "text": [
      "Number of student admitted to college 1 in group 0: 1941\n",
      "Number of student admitted to college 2 in group 0: 2165\n",
      "Number of student admitted to college 1 in group 1: 4064\n",
      "Number of student admitted to college 2 in group 1: 3768\n"
     ]
    },
    {
     "data": {
      "text/plain": [
       "(6005, 5933)"
      ]
     },
     "execution_count": 12,
     "metadata": {},
     "output_type": "execute_result"
    }
   ],
   "source": [
    "student_by_col(cutoff_values,grade_estimated,stud_pref)"
   ]
  },
  {
   "cell_type": "code",
   "execution_count": 13,
   "metadata": {},
   "outputs": [
    {
     "name": "stdout",
     "output_type": "stream",
     "text": [
      "[5937, 5937]\n"
     ]
    }
   ],
   "source": [
    "print(capacities)"
   ]
  },
  {
   "cell_type": "code",
   "execution_count": 14,
   "metadata": {},
   "outputs": [
    {
     "data": {
      "text/plain": [
       "[-2.35113263, -1.80450201]"
      ]
     },
     "execution_count": 14,
     "metadata": {},
     "output_type": "execute_result"
    }
   ],
   "source": [
    "new_cutoff_values = [-2.35113263,-1.80450201]\n",
    "new_cutoff_values"
   ]
  },
  {
   "cell_type": "code",
   "execution_count": 15,
   "metadata": {},
   "outputs": [],
   "source": [
    "updated_grade_estimated = bayes_update_grade(new_cutoff_values[0],new_cutoff_values[1],grade_estimated,chi,sigma,bayes_type='right')"
   ]
  },
  {
   "cell_type": "code",
   "execution_count": 16,
   "metadata": {},
   "outputs": [
    {
     "name": "stdout",
     "output_type": "stream",
     "text": [
      "Proportion of students in group 0 with no offer 0.33\n",
      "Proportion of students in group 0 with only a second preference offer 0.11\n",
      "Proportion of students in group 0 with first choice offer 0.56\n",
      "Proportion of students in group 1 with no offer 0.11\n",
      "Proportion of students in group 1 with only a second preference offer 0.15\n",
      "Proportion of students in group 1 with first choice offer 0.74\n"
     ]
    }
   ],
   "source": [
    "welfare_metrics(new_cutoff_values,updated_grade_estimated,stud_pref)"
   ]
  },
  {
   "cell_type": "code",
   "execution_count": 17,
   "metadata": {},
   "outputs": [
    {
     "name": "stdout",
     "output_type": "stream",
     "text": [
      "Number of student admitted to college 1 in group 0: 2129\n",
      "Number of student admitted to college 2 in group 0: 1837\n",
      "Number of student admitted to college 1 in group 1: 3836\n",
      "Number of student admitted to college 2 in group 1: 4082\n"
     ]
    },
    {
     "data": {
      "text/plain": [
       "(5965, 5919)"
      ]
     },
     "execution_count": 17,
     "metadata": {},
     "output_type": "execute_result"
    }
   ],
   "source": [
    "student_by_col(new_cutoff_values,updated_grade_estimated,stud_pref)"
   ]
  },
  {
   "cell_type": "code",
   "execution_count": null,
   "metadata": {},
   "outputs": [],
   "source": []
  },
  {
   "cell_type": "code",
   "execution_count": null,
   "metadata": {},
   "outputs": [],
   "source": []
  }
 ],
 "metadata": {
  "kernelspec": {
   "display_name": "Python 3",
   "language": "python",
   "name": "python3"
  },
  "language_info": {
   "codemirror_mode": {
    "name": "ipython",
    "version": 3
   },
   "file_extension": ".py",
   "mimetype": "text/x-python",
   "name": "python",
   "nbconvert_exporter": "python",
   "pygments_lexer": "ipython3",
   "version": "3.12.5"
  }
 },
 "nbformat": 4,
 "nbformat_minor": 2
}
