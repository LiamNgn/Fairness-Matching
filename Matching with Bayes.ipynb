{
 "cells": [
  {
   "cell_type": "code",
   "execution_count": 1,
   "metadata": {},
   "outputs": [],
   "source": [
    "from param_def import chi,sigma,prop_gp,capacities_rate,prop_all_g_prefer,capacities,lambdas\n",
    "import numpy as np\n",
    "from util import welfare_metrics,student_by_col,bayes_update_grade,grades_gr_to_grades_col\n",
    "from itertools import compress\n",
    "# Import HyperOpt Library\n",
    "from hyperopt import tpe, hp, fmin\n",
    "import numpy as np\n",
    "from BayesEst import bayesian_est\n",
    "from scipy.optimize import fsolve\n",
    "from scipy.stats import norm, multivariate_normal"
   ]
  },
  {
   "cell_type": "code",
   "execution_count": 2,
   "metadata": {},
   "outputs": [
    {
     "name": "stdout",
     "output_type": "stream",
     "text": [
      "[0.2, 0.2]\n"
     ]
    }
   ],
   "source": [
    "print(capacities_rate)"
   ]
  },
  {
   "cell_type": "code",
   "execution_count": 3,
   "metadata": {},
   "outputs": [],
   "source": [
    "grade_estimated_gr = []\n",
    "for i in range(len(chi)):\n",
    "    grade_estimated_gr.append(np.load(f'grade_estimated_gr{i+1}.npy'))\n",
    "grade_estimated = grades_gr_to_grades_col(grade_estimated_gr)\n",
    "#%%\n",
    "stud_pref = []\n",
    "for i in range(len(chi)):\n",
    "    stud_pref.append(np.load(f'stud_pref_gr{i+1}.npy').tolist())"
   ]
  },
  {
   "cell_type": "code",
   "execution_count": 4,
   "metadata": {},
   "outputs": [],
   "source": [
    "def cdf(x, sigma):\n",
    "    return norm.cdf(x, scale = sigma)"
   ]
  },
  {
   "cell_type": "code",
   "execution_count": 5,
   "metadata": {},
   "outputs": [],
   "source": [
    "def cdfm(x, y, sigma, rho):\n",
    "    return multivariate_normal([0, 0], [[sigma**2, sigma**2 * rho], [sigma**2 * rho, sigma**2]]).cdf(np.array([x,y]))"
   ]
  },
  {
   "cell_type": "code",
   "execution_count": 6,
   "metadata": {},
   "outputs": [],
   "source": [
    "def cdfmsi(x, y, sigma, rho):\n",
    "    return norm.cdf(y, scale = sigma) - multivariate_normal([0, 0], [[sigma**2, sigma**2 * rho], [sigma**2 * rho, sigma**2]]).cdf(np.array([x,y]))"
   ]
  },
  {
   "cell_type": "code",
   "execution_count": 7,
   "metadata": {},
   "outputs": [],
   "source": [
    "def cdfmis(x, y, sigma, rho):\n",
    "    return norm.cdf(x, scale = sigma) - multivariate_normal([0, 0], [[sigma**2, sigma**2 * rho], [sigma**2 * rho, sigma**2]]).cdf(np.array([x,y]))"
   ]
  },
  {
   "cell_type": "code",
   "execution_count": 8,
   "metadata": {},
   "outputs": [],
   "source": [
    "def market_clear(Pa, Pb, prop, capA, capB, prefi, prefii, sigmai, sigmaii, cori, corii):\n",
    "    f1 = prop*prefi*(1 - cdf(Pa, sigmai)) + (1 - prop)*prefii*(1 - cdf(Pa, sigmaii)) + prop*(1 - prefi)*cdfmsi(Pa, Pb, sigmai, cori) + (1 -prop)*(1 - prefii)*cdfmsi(Pa, Pb, sigmaii, corii) - capA\n",
    "    f2 = prop*(1 - prefi)*(1 - cdf(Pb, sigmai)) + (1 - prop)*(1 - prefii)*(1 - cdf(Pb, sigmaii)) + prop*prefi*cdfmis(Pa, Pb, sigmai, cori) + (1 -prop)*prefii*cdfmis(Pa, Pb, sigmaii, corii) - capB\n",
    "    return f1, f2"
   ]
  },
  {
   "cell_type": "code",
   "execution_count": 9,
   "metadata": {},
   "outputs": [],
   "source": [
    "def objective_bads(params):\n",
    "    Pa,Pb = params\n",
    "    f1,f2 = market_clear(Pa,Pb,prop_gp[0],capacities_rate[0],capacities_rate[1],\n",
    "                  prop_all_g_prefer[0],prop_all_g_prefer[1],sigma_i,sigma_ii,cor_i,cor_ii)\n",
    "    # return np.abs(f1) + np.abs(f2)\n",
    "    return f1**2+f2**2"
   ]
  },
  {
   "cell_type": "code",
   "execution_count": 10,
   "metadata": {},
   "outputs": [],
   "source": [
    "# def solv_mc(prop, capA, capB, prefi, prefii, sigmai, sigmaii, cori, corii):\n",
    "#     func = lambda P: market_clear(P[0], P[1], prop, capA, capB, prefi, prefii, sigmai, sigmaii, cori, corii)\n",
    "#     return fsolve(func, x0 = np.array([0, 0]))\n",
    "\n",
    "# P_A,P_B = solv_mc(prop_gp[0],capacities_rate[0],capacities_rate[1],\n",
    "#                   prop_all_g_prefer[0],prop_all_g_prefer[1],sigma_i,sigma_ii,cor_i,cor_ii)\n"
   ]
  },
  {
   "cell_type": "code",
   "execution_count": 11,
   "metadata": {},
   "outputs": [],
   "source": [
    "sigma_i = np.sqrt(chi[0]**2 + sigma[0]**2)\n",
    "sigma_ii = np.sqrt(chi[1]**2 + sigma[1]**2)\n",
    "cor_i = (chi[0]**2 + lambdas[0]**2)/sigma_i**2\n",
    "cor_ii = (chi[1]**2 + lambdas[1]**2)/sigma_ii**2"
   ]
  },
  {
   "cell_type": "code",
   "execution_count": 12,
   "metadata": {},
   "outputs": [
    {
     "name": "stdout",
     "output_type": "stream",
     "text": [
      "Beginning optimization of a DETERMINISTIC objective function\n",
      "\n",
      " Iteration    f-count         f(x)           MeshScale          Method             Actions\n",
      "     0           2       0.0345411               1                                 Uncertainty test\n",
      "     0           6       0.0345411               1         Initial mesh            Initial points\n",
      "     0          10       0.0345411             0.5         Refine grid             Train\n",
      "     1          12       0.0227038             0.5     Incremental search (ES-wcm)        \n",
      "     1          18      0.00375946            0.25         Refine grid             Train\n",
      "     2          19       0.0018766            0.25     Incremental search (ES-wcm)        \n",
      "     2          20      0.00130803            0.25     Incremental search (ES-ell)        \n",
      "     2          26      0.00130803           0.125         Refine grid             \n",
      "     3          27     0.000177436           0.125     Incremental search (ES-ell)        \n",
      "     3          28     0.000158264           0.125     Incremental search (ES-wcm)        \n",
      "     3          30     7.51493e-06           0.125     Incremental search (ES-wcm)        \n",
      "     3          34     7.51493e-06          0.0625         Refine grid             \n",
      "     4          35     1.49806e-06          0.0625     Incremental search (ES-wcm)        \n",
      "     4          37     6.08375e-07          0.0625     Incremental search (ES-ell)        \n",
      "     4          42     6.08375e-07         0.03125         Refine grid             Train\n",
      "     5          50     6.08375e-07        0.015625         Refine grid             Train\n",
      "     6          58     6.08375e-07      0.00390625         Refine grid             Train\n",
      "     7          62      5.9483e-07      0.00390625     Incremental search (ES-wcm)        \n",
      "     7          66      5.9483e-07     0.000976562         Refine grid             Train\n",
      "     8          67     5.54941e-07     0.000976562     Incremental search (ES-ell)        \n",
      "Optimization terminated: change in the function value less than options['tol_fun'].\n",
      "Function value at minimum: 5.549407110225283e-07\n",
      "\n",
      "BADS minimum at: x_min = [1.58174462 1.83837689], fval = 5.549e-07\n",
      "total f-count: 67, time: 4.4 s\n"
     ]
    }
   ],
   "source": [
    "from pybads import BADS\n",
    "\n",
    "lower_bounds = np.array([-10, -10])\n",
    "upper_bounds = np.array([10, 10])\n",
    "plausible_lower_bounds = np.array([-5, -5])\n",
    "plausible_upper_bounds = np.array([5, 5])\n",
    "x0 = np.array([0, 0]);        # Starting point\n",
    "# %%\n",
    "bads = BADS(objective_bads, x0, lower_bounds, upper_bounds, plausible_lower_bounds, plausible_upper_bounds)\n",
    "optimize_result = bads.optimize()\n",
    "\n",
    "# %%\n",
    "x_min = optimize_result['x']\n",
    "fval = optimize_result['fval']\n",
    "print(f\"BADS minimum at: x_min = {x_min.flatten()}, fval = {fval:.4g}\")\n",
    "print(f\"total f-count: {optimize_result['func_count']}, time: {round(optimize_result['total_time'], 2)} s\")"
   ]
  },
  {
   "cell_type": "code",
   "execution_count": 13,
   "metadata": {},
   "outputs": [],
   "source": [
    "cutoff_values = list(x_min)"
   ]
  },
  {
   "cell_type": "code",
   "execution_count": 14,
   "metadata": {},
   "outputs": [
    {
     "name": "stdout",
     "output_type": "stream",
     "text": [
      "Proportion of students in group 0 with no offer 0.61\n",
      "Proportion of students in group 0 with only a second preference offer 0.12\n",
      "Proportion of students in group 0 with first choice offer 0.27\n",
      "Proportion of students in group 1 with no offer 0.60\n",
      "Proportion of students in group 1 with only a second preference offer 0.13\n",
      "Proportion of students in group 1 with first choice offer 0.27\n"
     ]
    }
   ],
   "source": [
    "welfare_metrics(cutoff_values,grade_estimated,stud_pref)"
   ]
  },
  {
   "cell_type": "code",
   "execution_count": 15,
   "metadata": {},
   "outputs": [
    {
     "name": "stdout",
     "output_type": "stream",
     "text": [
      "Number of student admitted to college 1 in group 0: 1538\n",
      "Number of student admitted to college 2 in group 0: 1591\n",
      "Number of student admitted to college 1 in group 1: 2437\n",
      "Number of student admitted to college 2 in group 1: 2414\n"
     ]
    },
    {
     "data": {
      "text/plain": [
       "(3975, 4005)"
      ]
     },
     "execution_count": 15,
     "metadata": {},
     "output_type": "execute_result"
    }
   ],
   "source": [
    "student_by_col(cutoff_values,grade_estimated,stud_pref)"
   ]
  },
  {
   "cell_type": "code",
   "execution_count": 16,
   "metadata": {},
   "outputs": [
    {
     "name": "stdout",
     "output_type": "stream",
     "text": [
      "[4000, 4000]\n"
     ]
    }
   ],
   "source": [
    "print(capacities)"
   ]
  },
  {
   "cell_type": "code",
   "execution_count": 17,
   "metadata": {},
   "outputs": [
    {
     "data": {
      "text/plain": [
       "[1.58655643, 0.40073276]"
      ]
     },
     "execution_count": 17,
     "metadata": {},
     "output_type": "execute_result"
    }
   ],
   "source": [
    "new_cutoff_values = [1.58655643,0.40073276]\n",
    "new_cutoff_values"
   ]
  },
  {
   "cell_type": "code",
   "execution_count": 18,
   "metadata": {},
   "outputs": [],
   "source": [
    "updated_grade_estimated = bayes_update_grade(new_cutoff_values[0],new_cutoff_values[1],grade_estimated,chi,sigma,lambdas,bayes_type='right')"
   ]
  },
  {
   "cell_type": "code",
   "execution_count": 19,
   "metadata": {},
   "outputs": [],
   "source": [
    "##    \n",
    "# grade_estimated should have the following form \n",
    "# [[[-3.62656622994722, 2.1811620120023885, \n",
    "# -11.563939588668866, 9.522766463940787], \n",
    "# [-2.140950614292475, -3.1545339753546977, \n",
    "# 0.2686527056082677, -0.6574626041532636, \n",
    "# -2.252868772168457, 1.8937660992816987]], \n",
    "# [[-5.268780813142571, -0.8191620654894043, \n",
    "# -9.60125782299109, 7.9126466724151605], \n",
    "# [-3.9756947771758844, -2.6409442009387023, \n",
    "# 4.086647894727917, -1.357128391535272, \n",
    "# 0.8661128454577303, 0.9586986061854232]]] \n",
    "# with 2 groups, 2 colleges, group 1 has 4 students, \n",
    "# group 2 has 6 students.\n",
    "# updated_grade_estimate should have the same form as grade_estimated"
   ]
  },
  {
   "cell_type": "code",
   "execution_count": 20,
   "metadata": {},
   "outputs": [
    {
     "name": "stdout",
     "output_type": "stream",
     "text": [
      "Proportion of students in group 0 with no offer 0.61\n",
      "Proportion of students in group 0 with only a second preference offer 0.12\n",
      "Proportion of students in group 0 with first choice offer 0.27\n",
      "Proportion of students in group 1 with no offer 0.60\n",
      "Proportion of students in group 1 with only a second preference offer 0.13\n",
      "Proportion of students in group 1 with first choice offer 0.27\n"
     ]
    }
   ],
   "source": [
    "welfare_metrics(new_cutoff_values,updated_grade_estimated,stud_pref)"
   ]
  },
  {
   "cell_type": "code",
   "execution_count": 21,
   "metadata": {},
   "outputs": [
    {
     "name": "stdout",
     "output_type": "stream",
     "text": [
      "Number of student admitted to college 1 in group 0: 1535\n",
      "Number of student admitted to college 2 in group 0: 1581\n",
      "Number of student admitted to college 1 in group 1: 2432\n",
      "Number of student admitted to college 2 in group 1: 2415\n"
     ]
    },
    {
     "data": {
      "text/plain": [
       "(3967, 3996)"
      ]
     },
     "execution_count": 21,
     "metadata": {},
     "output_type": "execute_result"
    }
   ],
   "source": [
    "student_by_col(new_cutoff_values,updated_grade_estimated,stud_pref)"
   ]
  },
  {
   "cell_type": "code",
   "execution_count": null,
   "metadata": {},
   "outputs": [],
   "source": []
  },
  {
   "cell_type": "code",
   "execution_count": null,
   "metadata": {},
   "outputs": [],
   "source": []
  }
 ],
 "metadata": {
  "kernelspec": {
   "display_name": "Python 3",
   "language": "python",
   "name": "python3"
  },
  "language_info": {
   "codemirror_mode": {
    "name": "ipython",
    "version": 3
   },
   "file_extension": ".py",
   "mimetype": "text/x-python",
   "name": "python",
   "nbconvert_exporter": "python",
   "pygments_lexer": "ipython3",
   "version": "3.12.6"
  }
 },
 "nbformat": 4,
 "nbformat_minor": 2
}
