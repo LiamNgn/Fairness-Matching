{
 "cells": [
  {
   "cell_type": "code",
   "execution_count": 1,
   "metadata": {},
   "outputs": [],
   "source": [
    "from Experiment import experiment"
   ]
  },
  {
   "cell_type": "code",
   "execution_count": 4,
   "metadata": {},
   "outputs": [],
   "source": [
    "#Parameter to create student\n",
    "n_stud = 20000\n",
    "prop_gp = [0.4,0.6] #vector gamma in the paper\n",
    "mean_gp = [0,0]\n",
    "chi = [4,4] #std of latent qualities of groups\n",
    "\n",
    "#Parameter of college\n",
    "n_col = 2 #Number of college\n",
    "noise_mean = [0,0]\n",
    "sigma = [4,4] #std of noise of each groups\n",
    "lambdas = [1,0.5] #cov of noies of each groups\n",
    "prop_all_g_prefer = [0.4,0.4] #This should be the vector beta in the paper\n",
    "\n",
    "capacities_rate = [0.2,0.2] #This should be the vector alpha in the paper."
   ]
  },
  {
   "cell_type": "code",
   "execution_count": 5,
   "metadata": {},
   "outputs": [
    {
     "name": "stdout",
     "output_type": "stream",
     "text": [
      "Data generated\n",
      "Capacity of each college: [4000, 4000]\n",
      "BADS minimum at: x_min = [3.04283142 3.2724762 ], fval = 2.248e-07\n",
      "total f-count: 59, time: 3.08 s\n",
      "For matching without any update, the welfares are\n",
      "Proportion of students in group 0 with no offer 0.57\n",
      "Proportion of students in group 0 with only a second preference offer 0.14\n",
      "Proportion of students in group 0 with first choice offer 0.29\n",
      "Proportion of students in group 1 with no offer 0.57\n",
      "Proportion of students in group 1 with only a second preference offer 0.13\n",
      "Proportion of students in group 1 with first choice offer 0.29\n",
      "Number of student admitted to college 1 in group 0: 1627\n",
      "Number of student admitted to college 2 in group 0: 1814\n",
      "Number of student admitted to college 1 in group 1: 2463\n",
      "Number of student admitted to college 2 in group 1: 2648\n",
      "4090 4462\n",
      "Total A utility: 25984.41807533217\n",
      "A utility for student with first choice: 15713.629743899248\n",
      "A utility for student with second choice: 10270.788331432921\n",
      "Total B utility: 29329.71684982209\n",
      "B utility for student with first choice: 23271.397504110148\n",
      "B utility for student with second choice: 6058.319345711942\n",
      "Proportion of student admitted to A with first choice: 0.595\n",
      "Proportion of student admitted to A with second choice: 0.4275\n",
      "Proportion of student admitted to B with first choice: 0.86125\n",
      "Proportion of student admitted to B with second choice: 0.25425\n",
      "BADS minimum at: x_min = [3.78357463 0.79303026], fval = 0.0001515\n",
      "total f-count: 107, time: 110.44 s\n",
      "Proportion of students in group 0 with no offer 0.60\n",
      "Proportion of students in group 0 with only a second preference offer 0.21\n",
      "Proportion of students in group 0 with first choice offer 0.20\n",
      "Proportion of students in group 1 with no offer 0.60\n",
      "Proportion of students in group 1 with only a second preference offer 0.20\n",
      "Proportion of students in group 1 with first choice offer 0.20\n",
      "Number of student admitted to college 1 in group 0: 1589\n",
      "Number of student admitted to college 2 in group 0: 1614\n",
      "Number of student admitted to college 1 in group 1: 2413\n",
      "Number of student admitted to college 2 in group 1: 2386\n",
      "4002 4000\n",
      "Total A utility: 27912.29548525018\n",
      "A utility for student with first choice: 14460.292750571603\n",
      "A utility for student with second choice: 13452.002734678576\n",
      "Total B utility: 11389.142156179243\n",
      "B utility for student with first choice: 2574.5057846114905\n",
      "B utility for student with second choice: 8814.636371567753\n",
      "Proportion of student admitted to A with first choice: 0.503\n",
      "Proportion of student admitted to A with second choice: 0.4975\n",
      "Proportion of student admitted to B with first choice: 0.4805\n",
      "Proportion of student admitted to B with second choice: 0.5195\n"
     ]
    }
   ],
   "source": [
    "experiment(n_stud,prop_gp,mean_gp,chi,n_col,noise_mean,sigma, lambdas,capacities_rate)"
   ]
  },
  {
   "cell_type": "code",
   "execution_count": null,
   "metadata": {},
   "outputs": [],
   "source": []
  }
 ],
 "metadata": {
  "kernelspec": {
   "display_name": "Python 3",
   "language": "python",
   "name": "python3"
  },
  "language_info": {
   "codemirror_mode": {
    "name": "ipython",
    "version": 3
   },
   "file_extension": ".py",
   "mimetype": "text/x-python",
   "name": "python",
   "nbconvert_exporter": "python",
   "pygments_lexer": "ipython3",
   "version": "3.12.6"
  }
 },
 "nbformat": 4,
 "nbformat_minor": 2
}
