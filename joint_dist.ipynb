{
 "cells": [
  {
   "cell_type": "code",
   "execution_count": 1,
   "metadata": {},
   "outputs": [],
   "source": [
    "#Import packages\n",
    "from scipy.stats import norm\n",
    "import matplotlib.pyplot as plt\n",
    "import numpy as np\n",
    "from scipy.integrate import quad\n",
    "import seaborn as sns"
   ]
  },
  {
   "cell_type": "markdown",
   "metadata": {},
   "source": [
    "We assume that all students have a latent quality $W$, their scores $\\hat{W^A},\\hat{W^B}$ are respectively the rating scores of college A and B. These ratings scores are the sum of the latent quality and a noise term $\\varepsilon$ drawn indepdently at each college, i.e. \n",
    "\\begin{equation}\n",
    "   \\forall s \\in S, \\text{ for } C \\in \\{A,B\\}, \\widehat{W^C_s} = \\varepsilon_s^C + W_s \n",
    "\\end{equation}\n",
    "where $S$ is the student set and $s$ is an arbitrary student. Moreover, we assume that the latent qualities of all students are drawn from a (group-indepedent) normal distribution, the noises are also normally distributed and depend on the group:\n",
    "\\begin{equation}\n",
    "     \\forall s \\in S, \\text{ for } C \\in \\{A,B\\}, W_s \\sim \\mathcal{N}(0,\\chi^2), \\varepsilon^C_s \\sim \\mathcal{N}(0,\\sigma^2_{G(s)}).\n",
    "\\end{equation}\n",
    "$\\hat{W}_s^C$ then is a normal distribution with mean $0$ and variance $\\chi_{G(s)}^2 = \\chi^2 + \\sigma^2_{G(s)}$."
   ]
  },
  {
   "cell_type": "markdown",
   "metadata": {},
   "source": [
    "In this notebook, we will calculate the conditional expectation $E[W_s|\\widehat{W_s^A},\\widehat{W_s^B}<P_B]$. \n",
    "\n",
    "This conditional expectation can be rewritten as\n",
    "\n",
    "$$E[W_s|\\widehat{W_s^A},\\widehat{W_s^B}<P_B] = \\int_R w \\frac{f_{W_s,\\widehat{W_s^A},\\widehat{W_s^B} < P_B}(w,w_A,w_B < P_B)}{f_{\\widehat{W_s^A},\\widehat{W_s^B} < P_B}(w_A,w_B < P_B)} dw$$"
   ]
  },
  {
   "cell_type": "markdown",
   "metadata": {},
   "source": [
    "The joint distribution in the numerator $f_{W_s,\\widehat{W_s^A},\\widehat{W_s^B} < P_B}(w,w_A,w_B < P_B)$ can be rewritten as \n",
    "\n",
    "$$f_{W_s,\\widehat{W_s^A},\\widehat{W_s^B} < P_B}(w,w_A,w_B < P_B) = \\phi(\\frac{w_A - w}{\\sigma_{G(s)}}) \\Phi(\\frac{P_B- w}{\\sigma_{G(s)}}) \\phi(\\frac{w}{\\chi})$$\n",
    "\n",
    "where $\\phi,\\Phi$ are respectively the pdf and cdf of the standard normal distribution variable $Z$. \n",
    "\n",
    "Thus we define the joint distribution function\n"
   ]
  },
  {
   "cell_type": "code",
   "execution_count": 2,
   "metadata": {},
   "outputs": [],
   "source": [
    "def joint_dist(w,w_a,p_b,chi,sigma):\n",
    "    return norm.pdf(w,0,chi)*norm.pdf((w_a - w),0,sigma)*norm.cdf((p_b-w),0,sigma)"
   ]
  },
  {
   "cell_type": "markdown",
   "metadata": {},
   "source": [
    "We generate $W$ and $\\varepsilon_A,\\varepsilon_B$ according to Gaussian distributions. "
   ]
  },
  {
   "cell_type": "code",
   "execution_count": 6,
   "metadata": {},
   "outputs": [],
   "source": [
    "#Generate data, return data and the parameter chi, sigma\n",
    "def data_generator(chi=4,sigma=2,n=100000):\n",
    "    #Generate value\n",
    "    W = np.random.normal(0,chi,n)\n",
    "    epsilon_a = np.random.normal(0,sigma,n)\n",
    "    epsilon_b = np.random.normal(0,sigma,n)\n",
    "    W_A = W + epsilon_a\n",
    "    W_B = W + epsilon_b\n",
    "    #Generate cutoff value of College B (Here we choose 75 percentile)\n",
    "    P_B = np.percentile(W_B,75)\n",
    "    return W,W_A,W_B,P_B,chi,sigma\n"
   ]
  },
  {
   "cell_type": "code",
   "execution_count": 7,
   "metadata": {},
   "outputs": [],
   "source": [
    "#Randomized a student\n",
    "def randomized_student(W,W_A):\n",
    "    #Select a random student\n",
    "    student_index = np.random.randint(0,9999)\n",
    "    w = W[student_index]\n",
    "    w_a = W_A[student_index]\n",
    "    return student_index,w,w_a"
   ]
  },
  {
   "cell_type": "code",
   "execution_count": 7,
   "metadata": {},
   "outputs": [],
   "source": [
    "W,W_A,W_B,P_B,chi,sigma = data_generator(n=1000000)\n",
    "student_index,w,w_a = randomized_student(W,W_A)\n",
    "joint_distribution = joint_dist(W,w_a,P_B,chi,sigma)"
   ]
  },
  {
   "cell_type": "code",
   "execution_count": 18,
   "metadata": {},
   "outputs": [
    {
     "data": {
      "text/plain": [
       "0"
      ]
     },
     "execution_count": 18,
     "metadata": {},
     "output_type": "execute_result"
    }
   ],
   "source": [
    "\n",
    "P_B = -100\n",
    "h = 1e-1\n",
    "test_w = W[(W_A < w_a + h)& (W_A > w_a - h)&(W_B < P_B)]\n",
    "len(test_w)"
   ]
  },
  {
   "cell_type": "code",
   "execution_count": 19,
   "metadata": {},
   "outputs": [
    {
     "name": "stderr",
     "output_type": "stream",
     "text": [
      "/tmp/ipykernel_16580/1832840254.py:3: RuntimeWarning: invalid value encountered in divide\n",
      "  cond_distribution = joint_dist(w,w_a,P_B,chi,sigma)/gaussian_denominator(w_a,P_B,chi,sigma)\n"
     ]
    }
   ],
   "source": [
    "w = np.arange(-15,15,0.1)\n",
    "joint_distribution = joint_dist(w,w_a,P_B,chi,sigma)\n",
    "cond_distribution = joint_dist(w,w_a,P_B,chi,sigma)/gaussian_denominator(w_a,P_B,chi,sigma)"
   ]
  },
  {
   "cell_type": "code",
   "execution_count": 20,
   "metadata": {},
   "outputs": [
    {
     "data": {
      "image/png": "[encoded data removed]",
      "text/plain": [
       "<Figure size 640x480 with 1 Axes>"
      ]
     },
     "metadata": {},
     "output_type": "display_data"
    }
   ],
   "source": [
    "plt.figure()\n",
    "plt.plot(w,cond_distribution)\n",
    "sns.kdeplot(test_w)\n",
    "#ax = plt.gca()\n",
    "\n",
    "\n",
    "plt.show()"
   ]
  },
  {
   "cell_type": "markdown",
   "metadata": {},
   "source": [
    "Here we make the assumption that both scores are Gaussian thus their joint distribution is a bivariate Gaussian distribution. The Gaussian denominator can be calculated as"
   ]
  },
  {
   "cell_type": "code",
   "execution_count": 130,
   "metadata": {},
   "outputs": [],
   "source": [
    "def gaussian_denominator(w_a,P_B,chi,sigma):\n",
    "    std = np.sqrt(chi**2 + sigma**2)\n",
    "    transformed_P_B = (std*P_B - chi**2*w_a/std)/(np.sqrt(sigma**4 + 2*sigma**2*chi**2))\n",
    "    return norm.pdf(w_a,0,std)*norm.cdf(transformed_P_B)\n"
   ]
  },
  {
   "cell_type": "code",
   "execution_count": 12,
   "metadata": {},
   "outputs": [],
   "source": [
    "def gaussian_denominator(w_a,P_B,chi,sigma):\n",
    "    mean_cond_dist = chi**2/(chi**2 + sigma**2)*w_a\n",
    "    var_cond_dist = (sigma**4 + 2*sigma**2*chi**2)/(chi**2 + sigma**2)\n",
    "    return norm.cdf(P_B,mean_cond_dist,np.sqrt(var_cond_dist))*norm.pdf(w_a,0,np.sqrt(sigma**2 + chi**2))"
   ]
  },
  {
   "cell_type": "code",
   "execution_count": 1,
   "metadata": {},
   "outputs": [
    {
     "ename": "NameError",
     "evalue": "name 'W_A' is not defined",
     "output_type": "error",
     "traceback": [
      "\u001b[0;31m---------------------------------------------------------------------------\u001b[0m",
      "\u001b[0;31mNameError\u001b[0m                                 Traceback (most recent call last)",
      "Cell \u001b[0;32mIn[1], line 3\u001b[0m\n\u001b[1;32m      1\u001b[0m P_B \u001b[38;5;241m=\u001b[39m \u001b[38;5;241m-\u001b[39m\u001b[38;5;241m1\u001b[39m\n\u001b[1;32m      2\u001b[0m h \u001b[38;5;241m=\u001b[39m \u001b[38;5;241m1e-1\u001b[39m\n\u001b[0;32m----> 3\u001b[0m test_w_a \u001b[38;5;241m=\u001b[39m \u001b[43mW_A\u001b[49m[W_B \u001b[38;5;241m<\u001b[39m P_B]\n",
      "\u001b[0;31mNameError\u001b[0m: name 'W_A' is not defined"
     ]
    }
   ],
   "source": [
    "P_B = 10\n",
    "h = 1e-1\n",
    "test_w_a = W_A[W_B < P_B]"
   ]
  },
  {
   "cell_type": "code",
   "execution_count": 183,
   "metadata": {},
   "outputs": [],
   "source": [
    "val_w_a = np.arange(-20,20,0.1)\n",
    "cond_distribution_w_a = gaussian_denominator(val_w_a,P_B,chi,sigma)/norm.cdf(P_B/(np.sqrt(sigma**2 + chi**2)))"
   ]
  },
  {
   "cell_type": "code",
   "execution_count": 184,
   "metadata": {},
   "outputs": [
    {
     "data": {
      "text/plain": [
       "<Axes: >"
      ]
     },
     "execution_count": 184,
     "metadata": {},
     "output_type": "execute_result"
    },
    {
     "data": {
      "image/png": "[encoded data removed]",
      "text/plain": [
       "<Figure size 640x480 with 1 Axes>"
      ]
     },
     "metadata": {},
     "output_type": "display_data"
    }
   ],
   "source": [
    "sns.kdeplot(test_w_a)"
   ]
  },
  {
   "cell_type": "code",
   "execution_count": 186,
   "metadata": {},
   "outputs": [],
   "source": [
    "a = np.random.normal(0,2,1)"
   ]
  },
  {
   "cell_type": "code",
   "execution_count": 188,
   "metadata": {},
   "outputs": [
    {
     "data": {
      "text/plain": [
       "array([0.19444442])"
      ]
     },
     "execution_count": 188,
     "metadata": {},
     "output_type": "execute_result"
    }
   ],
   "source": [
    "norm.pdf(a,0,2)"
   ]
  },
  {
   "cell_type": "code",
   "execution_count": 189,
   "metadata": {},
   "outputs": [
    {
     "data": {
      "text/plain": [
       "array([0.38888884])"
      ]
     },
     "execution_count": 189,
     "metadata": {},
     "output_type": "execute_result"
    }
   ],
   "source": [
    "norm.pdf(a/2)"
   ]
  },
  {
   "cell_type": "code",
   "execution_count": 185,
   "metadata": {},
   "outputs": [
    {
     "data": {
      "text/plain": [
       "[<matplotlib.lines.Line2D at 0x7fae4c203fb0>]"
      ]
     },
     "execution_count": 185,
     "metadata": {},
     "output_type": "execute_result"
    },
    {
     "data": {
      "image/png": "[encoded data removed]",
      "text/plain": [
       "<Figure size 640x480 with 1 Axes>"
      ]
     },
     "metadata": {},
     "output_type": "display_data"
    }
   ],
   "source": [
    "plt.plot(val_w_a,cond_distribution_w_a)\n"
   ]
  },
  {
   "cell_type": "code",
   "execution_count": 102,
   "metadata": {},
   "outputs": [],
   "source": [
    "a = np.random.normal(0,1,1000)"
   ]
  },
  {
   "cell_type": "code",
   "execution_count": 123,
   "metadata": {},
   "outputs": [
    {
     "data": {
      "text/plain": [
       "<Axes: ylabel='Density'>"
      ]
     },
     "execution_count": 123,
     "metadata": {},
     "output_type": "execute_result"
    },
    {
     "data": {
      "image/png": "[encoded data removed]",
      "text/plain": [
       "<Figure size 640x480 with 1 Axes>"
      ]
     },
     "metadata": {},
     "output_type": "display_data"
    }
   ],
   "source": [
    "t = np.arange(-4,4,0.1)\n",
    "p = norm.pdf(t)\n",
    "plt.plot(t,p)\n",
    "sns.kdeplot(a)"
   ]
  },
  {
   "cell_type": "code",
   "execution_count": null,
   "metadata": {},
   "outputs": [],
   "source": []
  },
  {
   "cell_type": "markdown",
   "metadata": {},
   "source": [
    "We calculate the numerator of the Bayesian Optimal algorithm using numerical integration"
   ]
  },
  {
   "cell_type": "code",
   "execution_count": 81,
   "metadata": {},
   "outputs": [],
   "source": [
    "def integrand(w,w_a,p_b,chi,sigma):\n",
    "    return w*norm.pdf(w,0,chi)*norm.pdf((w_a - w),0,sigma)*norm.cdf((p_b-w),0,sigma)#/gaussian_denominator(w_a,p_b,chi,sigma)"
   ]
  },
  {
   "cell_type": "code",
   "execution_count": 82,
   "metadata": {},
   "outputs": [],
   "source": [
    "def exp_val(w_a,p_b,chi,sigma):\n",
    "    return quad(integrand, -np.inf,np.inf,args=(w_a,p_b,chi,sigma))"
   ]
  },
  {
   "cell_type": "code",
   "execution_count": 77,
   "metadata": {},
   "outputs": [
    {
     "data": {
      "text/plain": [
       "(0.0, 0.0)"
      ]
     },
     "execution_count": 77,
     "metadata": {},
     "output_type": "execute_result"
    }
   ],
   "source": [
    "exp_val(w_a,-100,chi,sigma)"
   ]
  },
  {
   "cell_type": "markdown",
   "metadata": {},
   "source": [
    "The Bayesian Optimal estimator will be\n"
   ]
  },
  {
   "cell_type": "code",
   "execution_count": 150,
   "metadata": {},
   "outputs": [
    {
     "data": {
      "text/plain": [
       "17.612205870410396"
      ]
     },
     "execution_count": 150,
     "metadata": {},
     "output_type": "execute_result"
    }
   ],
   "source": [
    "exp_val(w_a,P_B,chi,sigma)[0]/gaussian_denominator(w_a,P_B,chi,sigma)"
   ]
  },
  {
   "cell_type": "markdown",
   "metadata": {},
   "source": [
    "The one sided Bayesian Optimal estimator is defined as the conditional of the true value on the observed rating."
   ]
  },
  {
   "cell_type": "code",
   "execution_count": 28,
   "metadata": {},
   "outputs": [],
   "source": [
    "def bayesian_naive(w_a,chi,sigma):\n",
    "    return chi**2/(chi**2+sigma**2)*w_a"
   ]
  },
  {
   "cell_type": "markdown",
   "metadata": {},
   "source": [
    "Experiment"
   ]
  },
  {
   "cell_type": "code",
   "execution_count": 98,
   "metadata": {},
   "outputs": [],
   "source": [
    "W,W_A,W_B,P_B,chi,sigma = data_generator(sigma=100)\n",
    "student_index,w,w_a = randomized_student(W,W_A)\n",
    "w_a = 0.5\n",
    "P_B = 100\n",
    "joint_distribution = joint_dist(W,w_a,P_B,chi,sigma)"
   ]
  },
  {
   "cell_type": "code",
   "execution_count": 99,
   "metadata": {},
   "outputs": [
    {
     "data": {
      "text/plain": [
       "-0.00015140292972295989"
      ]
     },
     "execution_count": 99,
     "metadata": {},
     "output_type": "execute_result"
    }
   ],
   "source": [
    "exp_val(w_a,P_B,chi,sigma)[0]"
   ]
  },
  {
   "cell_type": "code",
   "execution_count": 100,
   "metadata": {},
   "outputs": [
    {
     "data": {
      "text/plain": [
       "0.0007987220447284345"
      ]
     },
     "execution_count": 100,
     "metadata": {},
     "output_type": "execute_result"
    }
   ],
   "source": [
    "bayesian_naive(w_a,chi,sigma)"
   ]
  },
  {
   "cell_type": "code",
   "execution_count": 101,
   "metadata": {},
   "outputs": [
    {
     "data": {
      "text/plain": [
       "0.0033529786060948266"
      ]
     },
     "execution_count": 101,
     "metadata": {},
     "output_type": "execute_result"
    }
   ],
   "source": [
    "gaussian_denominator(w_a,P_B,chi,sigma)"
   ]
  },
  {
   "cell_type": "code",
   "execution_count": 102,
   "metadata": {},
   "outputs": [
    {
     "data": {
      "text/plain": [
       "-0.04515475566940674"
      ]
     },
     "execution_count": 102,
     "metadata": {},
     "output_type": "execute_result"
    }
   ],
   "source": [
    "exp_val(w_a,P_B,chi,sigma)[0]/gaussian_denominator(w_a,P_B,chi,sigma)\n"
   ]
  },
  {
   "cell_type": "code",
   "execution_count": 58,
   "metadata": {},
   "outputs": [
    {
     "data": {
      "text/plain": [
       "<function __main__.bayesian_naive(w_a, chi, sigma)>"
      ]
     },
     "execution_count": 58,
     "metadata": {},
     "output_type": "execute_result"
    }
   ],
   "source": []
  },
  {
   "cell_type": "code",
   "execution_count": 107,
   "metadata": {},
   "outputs": [],
   "source": [
    "p = np.arange(-10,500,0.5)\n",
    "baye2 = [exp_val(w_a,p,chi,sigma)[0]/gaussian_denominator(w_a,p,chi,sigma) for p in p]\n"
   ]
  },
  {
   "cell_type": "code",
   "execution_count": 108,
   "metadata": {},
   "outputs": [
    {
     "data": {
      "text/plain": [
       "<matplotlib.lines.Line2D at 0x7f7dd3ecf410>"
      ]
     },
     "execution_count": 108,
     "metadata": {},
     "output_type": "execute_result"
    },
    {
     "data": {
      "image/png": "[encoded data removed]",
      "text/plain": [
       "<Figure size 640x480 with 1 Axes>"
      ]
     },
     "metadata": {},
     "output_type": "display_data"
    }
   ],
   "source": [
    "plt.plot(p,baye2)\n",
    "plt.axhline(y=bayesian_naive(w_a,chi,sigma), color='r', linestyle='-')"
   ]
  }
 ],
 "metadata": {
  "kernelspec": {
   "display_name": "usr",
   "language": "python",
   "name": "python3"
  },
  "language_info": {
   "codemirror_mode": {
    "name": "ipython",
    "version": 3
   },
   "file_extension": ".py",
   "mimetype": "text/x-python",
   "name": "python",
   "nbconvert_exporter": "python",
   "pygments_lexer": "ipython3",
   "version": "3.12.3"
  }
 },
 "nbformat": 4,
 "nbformat_minor": 2
}
