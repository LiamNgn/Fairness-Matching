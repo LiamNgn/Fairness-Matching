{
 "cells": [
  {
   "cell_type": "code",
   "execution_count": 1,
   "metadata": {},
   "outputs": [],
   "source": [
    "#Import packages\n",
    "from scipy.stats import norm\n",
    "import matplotlib.pyplot as plt\n",
    "import numpy as np\n",
    "from scipy.integrate import quad\n",
    "import seaborn as sns"
   ]
  },
  {
   "cell_type": "markdown",
   "metadata": {},
   "source": [
    "We assume that all students have a latent quality $W$, their scores $\\hat{W^A},\\hat{W^B}$ are respectively the rating scores of college A and B. These ratings scores are the sum of the latent quality and a noise term $\\varepsilon$ drawn indepdently at each college, i.e. \n",
    "\\begin{equation}\n",
    "   \\forall s \\in S, \\text{ for } C \\in \\{A,B\\}, \\widehat{W^C_s} = \\varepsilon_s^C + W_s \n",
    "\\end{equation}\n",
    "where $S$ is the student set and $s$ is an arbitrary student. Moreover, we assume that the latent qualities of all students are drawn from a (group-indepedent) normal distribution, the noises are also normally distributed and depend on the group:\n",
    "\\begin{equation}\n",
    "     \\forall s \\in S, \\text{ for } C \\in \\{A,B\\}, W_s \\sim \\mathcal{N}(0,\\chi^2), \\varepsilon^C_s \\sim \\mathcal{N}(0,\\sigma^2_{G(s)}).\n",
    "\\end{equation}\n",
    "$\\hat{W}_s^C$ then is a normal distribution with mean $0$ and variance $\\chi_{G(s)}^2 = \\chi^2 + \\sigma^2_{G(s)}$."
   ]
  },
  {
   "cell_type": "markdown",
   "metadata": {},
   "source": [
    "In this notebook, we will calculate the conditional expectation $E[W_s|\\widehat{W_s^A},\\widehat{W_s^B}<P_B]$. \n",
    "\n",
    "This conditional expectation can be rewritten as\n",
    "\n",
    "$$E[W_s|\\widehat{W_s^A},\\widehat{W_s^B}<P_B] = \\int_R w \\frac{f_{W_s,\\widehat{W_s^A},\\widehat{W_s^B} < P_B}(w,w_A,w_B < P_B)}{f_{\\widehat{W_s^A},\\widehat{W_s^B} < P_B}(w_A,w_B < P_B)} dw$$"
   ]
  },
  {
   "cell_type": "markdown",
   "metadata": {},
   "source": [
    "The joint distribution in the numerator $f_{W_s,\\widehat{W_s^A},\\widehat{W_s^B} < P_B}(w,w_A,w_B < P_B)$ can be rewritten as \n",
    "\n",
    "$$f_{W_s,\\widehat{W_s^A},\\widehat{W_s^B} < P_B}(w,w_A,w_B < P_B) = \\phi(\\frac{w_A - w}{\\sigma_{G(s)}}) \\Phi(\\frac{P_B- w}{\\sigma_{G(s)}}) \\phi(\\frac{w}{\\chi})$$\n",
    "\n",
    "where $\\phi,\\Phi$ are respectively the pdf and cdf of the standard normal distribution variable $Z$. \n",
    "\n",
    "Thus we define the following function to calculate this joint distribution\n"
   ]
  },
  {
   "cell_type": "code",
   "execution_count": 2,
   "metadata": {},
   "outputs": [],
   "source": [
    "def joint_dist(w,w_a,p_b,chi,sigma):\n",
    "    return norm.pdf(w,0,chi)*norm.pdf((w_a - w),0,sigma)*norm.cdf((p_b-w),0,sigma)"
   ]
  },
  {
   "cell_type": "markdown",
   "metadata": {},
   "source": [
    "Using the fact that $(\\widehat{W_s^A},\\widehat{W_s^B})$ is joint Gaussian, the joint distribution $f_{\\widehat{W_s^A},\\widehat{W_s^B} < P_B}(w_A,w_B < P_B)$ in the denominator can be rewritten as\n",
    "\n",
    "$$f_{\\widehat{W_s^A},\\widehat{W_s^B} < P_B}(w_A,w_B < P_B) = f_{\\widehat{W_s^B} < P_B|\\widehat{W^A_s}}(w_B < P_B|w_A) f_{\\widehat{W^A_s}}(w_A).$$\n",
    "\n",
    "We therefore define the following function to calculate the joint distribution $f_{\\widehat{W_s^A},\\widehat{W_s^B} < P_B}(w_A,w_B < P_B)$"
   ]
  },
  {
   "cell_type": "code",
   "execution_count": 9,
   "metadata": {},
   "outputs": [],
   "source": [
    "def gaussian_denominator(w_a,P_B,chi,sigma):\n",
    "    mean_cond_dist = chi**2/(chi**2 + sigma**2)*w_a\n",
    "    var_cond_dist = (sigma**4 + 2*sigma**2*chi**2)/(chi**2 + sigma**2)\n",
    "    return norm.cdf(P_B,mean_cond_dist,np.sqrt(var_cond_dist))*norm.pdf(w_a,0,np.sqrt(sigma**2 + chi**2))"
   ]
  },
  {
   "cell_type": "markdown",
   "metadata": {},
   "source": [
    "We generate $W$ and $\\varepsilon_A,\\varepsilon_B$ according to Gaussian distributions. "
   ]
  },
  {
   "cell_type": "code",
   "execution_count": 6,
   "metadata": {},
   "outputs": [],
   "source": [
    "#Generate data, return data and the parameter chi, sigma\n",
    "def data_generator(chi=4,sigma=2,n=100000):\n",
    "    #Generate value\n",
    "    W = np.random.normal(0,chi,n)\n",
    "    epsilon_a = np.random.normal(0,sigma,n)\n",
    "    epsilon_b = np.random.normal(0,sigma,n)\n",
    "    W_A = W + epsilon_a\n",
    "    W_B = W + epsilon_b\n",
    "    #Generate cutoff value of College B (Here we choose 75 percentile)\n",
    "    P_B = np.percentile(W_B,75)\n",
    "    return W,W_A,W_B,P_B,chi,sigma\n"
   ]
  },
  {
   "cell_type": "code",
   "execution_count": 7,
   "metadata": {},
   "outputs": [],
   "source": [
    "#Randomized a student\n",
    "def randomized_student(W,W_A):\n",
    "    #Select a random student\n",
    "    student_index = np.random.randint(0,9999)\n",
    "    w = W[student_index]\n",
    "    w_a = W_A[student_index]\n",
    "    return student_index,w,w_a"
   ]
  },
  {
   "cell_type": "code",
   "execution_count": 7,
   "metadata": {},
   "outputs": [],
   "source": [
    "W,W_A,W_B,P_B,chi,sigma = data_generator(n=1000000)\n",
    "student_index,w,w_a = randomized_student(W,W_A)\n",
    "joint_distribution = joint_dist(W,w_a,P_B,chi,sigma)"
   ]
  },
  {
   "cell_type": "code",
   "execution_count": 18,
   "metadata": {},
   "outputs": [
    {
     "data": {
      "text/plain": [
       "0"
      ]
     },
     "execution_count": 18,
     "metadata": {},
     "output_type": "execute_result"
    }
   ],
   "source": [
    "\n",
    "P_B = -100\n",
    "h = 1e-1\n",
    "test_w = W[(W_A < w_a + h)& (W_A > w_a - h)&(W_B < P_B)]\n",
    "len(test_w)"
   ]
  },
  {
   "cell_type": "code",
   "execution_count": 19,
   "metadata": {},
   "outputs": [
    {
     "name": "stderr",
     "output_type": "stream",
     "text": [
      "/tmp/ipykernel_16580/1832840254.py:3: RuntimeWarning: invalid value encountered in divide\n",
      "  cond_distribution = joint_dist(w,w_a,P_B,chi,sigma)/gaussian_denominator(w_a,P_B,chi,sigma)\n"
     ]
    }
   ],
   "source": [
    "w = np.arange(-15,15,0.1)\n",
    "joint_distribution = joint_dist(w,w_a,P_B,chi,sigma)\n",
    "cond_distribution = joint_dist(w,w_a,P_B,chi,sigma)/gaussian_denominator(w_a,P_B,chi,sigma)"
   ]
  },
  {
   "cell_type": "code",
   "execution_count": 20,
   "metadata": {},
   "outputs": [
    {
     "data": {
      "image/png": "[encoded data removed]",
      "text/plain": [
       "<Figure size 640x480 with 1 Axes>"
      ]
     },
     "metadata": {},
     "output_type": "display_data"
    }
   ],
   "source": [
    "plt.figure()\n",
    "plt.plot(w,cond_distribution)\n",
    "sns.kdeplot(test_w)\n",
    "#ax = plt.gca()\n",
    "\n",
    "\n",
    "plt.show()"
   ]
  },
  {
   "cell_type": "markdown",
   "metadata": {},
   "source": [
    "Here we make the assumption that both scores are Gaussian thus their joint distribution is a bivariate Gaussian distribution. The Gaussian denominator can be calculated as"
   ]
  },
  {
   "cell_type": "code",
   "execution_count": 130,
   "metadata": {},
   "outputs": [],
   "source": [
    "def gaussian_denominator(w_a,P_B,chi,sigma):\n",
    "    std = np.sqrt(chi**2 + sigma**2)\n",
    "    transformed_P_B = (std*P_B - chi**2*w_a/std)/(np.sqrt(sigma**4 + 2*sigma**2*chi**2))\n",
    "    return norm.pdf(w_a,0,std)*norm.cdf(transformed_P_B)\n"
   ]
  },
  {
   "cell_type": "code",
   "execution_count": 12,
   "metadata": {},
   "outputs": [],
   "source": [
    "def gaussian_denominator(w_a,P_B,chi,sigma):\n",
    "    mean_cond_dist = chi**2/(chi**2 + sigma**2)*w_a\n",
    "    var_cond_dist = (sigma**4 + 2*sigma**2*chi**2)/(chi**2 + sigma**2)\n",
    "    return norm.cdf(P_B,mean_cond_dist,np.sqrt(var_cond_dist))*norm.pdf(w_a,0,np.sqrt(sigma**2 + chi**2))"
   ]
  },
  {
   "cell_type": "code",
   "execution_count": 1,
   "metadata": {},
   "outputs": [
    {
     "ename": "NameError",
     "evalue": "name 'W_A' is not defined",
     "output_type": "error",
     "traceback": [
      "\u001b[0;31m---------------------------------------------------------------------------\u001b[0m",
      "\u001b[0;31mNameError\u001b[0m                                 Traceback (most recent call last)",
      "Cell \u001b[0;32mIn[1], line 3\u001b[0m\n\u001b[1;32m      1\u001b[0m P_B \u001b[38;5;241m=\u001b[39m \u001b[38;5;241m-\u001b[39m\u001b[38;5;241m1\u001b[39m\n\u001b[1;32m      2\u001b[0m h \u001b[38;5;241m=\u001b[39m \u001b[38;5;241m1e-1\u001b[39m\n\u001b[0;32m----> 3\u001b[0m test_w_a \u001b[38;5;241m=\u001b[39m \u001b[43mW_A\u001b[49m[W_B \u001b[38;5;241m<\u001b[39m P_B]\n",
      "\u001b[0;31mNameError\u001b[0m: name 'W_A' is not defined"
     ]
    }
   ],
   "source": [
    "P_B = 10\n",
    "h = 1e-1\n",
    "test_w_a = W_A[W_B < P_B]"
   ]
  },
  {
   "cell_type": "code",
   "execution_count": 183,
   "metadata": {},
   "outputs": [],
   "source": [
    "val_w_a = np.arange(-20,20,0.1)\n",
    "cond_distribution_w_a = gaussian_denominator(val_w_a,P_B,chi,sigma)/norm.cdf(P_B/(np.sqrt(sigma**2 + chi**2)))"
   ]
  },
  {
   "cell_type": "code",
   "execution_count": 184,
   "metadata": {},
   "outputs": [
    {
     "data": {
      "text/plain": [
       "<Axes: >"
      ]
     },
     "execution_count": 184,
     "metadata": {},
     "output_type": "execute_result"
    },
    {
     "data": {
      "image/png": "[encoded data removed]",
      "text/plain": [
       "<Figure size 640x480 with 1 Axes>"
      ]
     },
     "metadata": {},
     "output_type": "display_data"
    }
   ],
   "source": [
    "sns.kdeplot(test_w_a)"
   ]
  },
  {
   "cell_type": "code",
   "execution_count": 186,
   "metadata": {},
   "outputs": [],
   "source": [
    "a = np.random.normal(0,2,1)"
   ]
  },
  {
   "cell_type": "code",
   "execution_count": 188,
   "metadata": {},
   "outputs": [
    {
     "data": {
      "text/plain": [
       "array([0.19444442])"
      ]
     },
     "execution_count": 188,
     "metadata": {},
     "output_type": "execute_result"
    }
   ],
   "source": [
    "norm.pdf(a,0,2)"
   ]
  },
  {
   "cell_type": "code",
   "execution_count": 189,
   "metadata": {},
   "outputs": [
    {
     "data": {
      "text/plain": [
       "array([0.38888884])"
      ]
     },
     "execution_count": 189,
     "metadata": {},
     "output_type": "execute_result"
    }
   ],
   "source": [
    "norm.pdf(a/2)"
   ]
  },
  {
   "cell_type": "code",
   "execution_count": 185,
   "metadata": {},
   "outputs": [
    {
     "data": {
      "text/plain": [
       "[<matplotlib.lines.Line2D at 0x7fae4c203fb0>]"
      ]
     },
     "execution_count": 185,
     "metadata": {},
     "output_type": "execute_result"
    },
    {
     "data": {
      "image/png": "[encoded data removed]",
      "text/plain": [
       "<Figure size 640x480 with 1 Axes>"
      ]
     },
     "metadata": {},
     "output_type": "display_data"
    }
   ],
   "source": [
    "plt.plot(val_w_a,cond_distribution_w_a)\n"
   ]
  },
  {
   "cell_type": "code",
   "execution_count": 102,
   "metadata": {},
   "outputs": [],
   "source": [
    "a = np.random.normal(0,1,1000)"
   ]
  },
  {
   "cell_type": "code",
   "execution_count": 123,
   "metadata": {},
   "outputs": [
    {
     "data": {
      "text/plain": [
       "<Axes: ylabel='Density'>"
      ]
     },
     "execution_count": 123,
     "metadata": {},
     "output_type": "execute_result"
    },
    {
     "data": {
      "image/png": "[encoded data removed]",
      "text/plain": [
       "<Figure size 640x480 with 1 Axes>"
      ]
     },
     "metadata": {},
     "output_type": "display_data"
    }
   ],
   "source": [
    "t = np.arange(-4,4,0.1)\n",
    "p = norm.pdf(t)\n",
    "plt.plot(t,p)\n",
    "sns.kdeplot(a)"
   ]
  },
  {
   "cell_type": "code",
   "execution_count": null,
   "metadata": {},
   "outputs": [],
   "source": []
  },
  {
   "cell_type": "markdown",
   "metadata": {},
   "source": [
    "We calculate the numerator of the Bayesian Optimal algorithm using numerical integration"
   ]
  },
  {
   "cell_type": "code",
   "execution_count": 12,
   "metadata": {},
   "outputs": [],
   "source": [
    "def integrand(w,w_a,p_b,chi,sigma):\n",
    "    return w*norm.pdf(w,0,chi)*norm.pdf((w_a - w),0,sigma)*norm.cdf((p_b-w),0,sigma)#/gaussian_denominator(w_a,p_b,chi,sigma)"
   ]
  },
  {
   "cell_type": "code",
   "execution_count": 13,
   "metadata": {},
   "outputs": [],
   "source": [
    "def exp_val(w_a,p_b,chi,sigma):\n",
    "    return quad(integrand, -np.inf,np.inf,args=(w_a,p_b,chi,sigma))"
   ]
  },
  {
   "cell_type": "code",
   "execution_count": 14,
   "metadata": {},
   "outputs": [
    {
     "data": {
      "text/plain": [
       "(-0.00015357282636563275, 7.621540641869219e-09)"
      ]
     },
     "execution_count": 14,
     "metadata": {},
     "output_type": "execute_result"
    }
   ],
   "source": [
    "exp_val(w_a,-100,chi,sigma)"
   ]
  },
  {
   "cell_type": "markdown",
   "metadata": {},
   "source": [
    "The Bayesian Optimal estimator will be\n"
   ]
  },
  {
   "cell_type": "code",
   "execution_count": 150,
   "metadata": {},
   "outputs": [
    {
     "data": {
      "text/plain": [
       "17.612205870410396"
      ]
     },
     "execution_count": 150,
     "metadata": {},
     "output_type": "execute_result"
    }
   ],
   "source": [
    "exp_val(w_a,P_B,chi,sigma)[0]/gaussian_denominator(w_a,P_B,chi,sigma)"
   ]
  },
  {
   "cell_type": "markdown",
   "metadata": {},
   "source": [
    "The one sided Bayesian Optimal estimator is defined as the conditional of the true value on the observed rating."
   ]
  },
  {
   "cell_type": "code",
   "execution_count": 17,
   "metadata": {},
   "outputs": [],
   "source": [
    "def bayesian_naive(w_a,chi,sigma):\n",
    "    return chi**2/(chi**2+sigma**2)*w_a"
   ]
  },
  {
   "cell_type": "markdown",
   "metadata": {},
   "source": [
    "Experiment"
   ]
  },
  {
   "cell_type": "code",
   "execution_count": 96,
   "metadata": {},
   "outputs": [],
   "source": [
    "W,W_A,W_B,P_B,chi,sigma = data_generator(sigma=10000,chi=1)\n",
    "student_index,w,w_a = randomized_student(W,W_A)\n",
    "w_a = 10\n",
    "P_B = 10000\n",
    "joint_distribution = joint_dist(W,w_a,P_B,chi,sigma)"
   ]
  },
  {
   "cell_type": "code",
   "execution_count": 70,
   "metadata": {},
   "outputs": [
    {
     "data": {
      "text/plain": [
       "-3.354511308129001e-06"
      ]
     },
     "execution_count": 70,
     "metadata": {},
     "output_type": "execute_result"
    }
   ],
   "source": [
    "exp_val(w_a,0,chi,sigma)[0]"
   ]
  },
  {
   "cell_type": "code",
   "execution_count": 97,
   "metadata": {},
   "outputs": [
    {
     "data": {
      "text/plain": [
       "9.9999999e-08"
      ]
     },
     "execution_count": 97,
     "metadata": {},
     "output_type": "execute_result"
    }
   ],
   "source": [
    "bayesian_naive(w_a,chi,sigma)"
   ]
  },
  {
   "cell_type": "code",
   "execution_count": 68,
   "metadata": {},
   "outputs": [
    {
     "data": {
      "text/plain": [
       "1.443519995805643e-05"
      ]
     },
     "execution_count": 68,
     "metadata": {},
     "output_type": "execute_result"
    }
   ],
   "source": [
    "gaussian_denominator(w_a,0,chi,sigma)"
   ]
  },
  {
   "cell_type": "code",
   "execution_count": 91,
   "metadata": {},
   "outputs": [
    {
     "data": {
      "text/plain": [
       "-2.866003150746514e-05"
      ]
     },
     "execution_count": 91,
     "metadata": {},
     "output_type": "execute_result"
    }
   ],
   "source": [
    "exp_val(w_a,P_B,chi,sigma)[0]/gaussian_denominator(w_a,P_B,chi,sigma)\n"
   ]
  },
  {
   "cell_type": "code",
   "execution_count": 58,
   "metadata": {},
   "outputs": [
    {
     "data": {
      "text/plain": [
       "<function __main__.bayesian_naive(w_a, chi, sigma)>"
      ]
     },
     "execution_count": 58,
     "metadata": {},
     "output_type": "execute_result"
    }
   ],
   "source": []
  },
  {
   "cell_type": "code",
   "execution_count": 79,
   "metadata": {},
   "outputs": [
    {
     "data": {
      "text/plain": [
       "[-7.984722431716025e-05,\n",
       " -7.984085604126008e-05,\n",
       " -7.983448798326889e-05,\n",
       " -7.982812014320056e-05,\n",
       " -7.982175252105286e-05,\n",
       " -7.981538511685032e-05,\n",
       " -7.980901793061018e-05,\n",
       " -7.980265096233084e-05,\n",
       " -7.97962842120541e-05,\n",
       " -7.978991767975267e-05,\n",
       " -7.97835513654276e-05,\n",
       " -7.977718526915744e-05,\n",
       " -7.977081939090485e-05,\n",
       " -7.976445373065471e-05,\n",
       " -7.975808828850024e-05,\n",
       " -7.97517230643767e-05,\n",
       " -7.974535805834376e-05,\n",
       " -7.973899327034403e-05,\n",
       " -7.973262870051481e-05,\n",
       " -7.972626434873682e-05,\n",
       " -7.971990021508275e-05,\n",
       " -7.97135362996076e-05,\n",
       " -7.970717260221272e-05,\n",
       " -7.970080912299254e-05,\n",
       " -7.969444586193002e-05,\n",
       " -7.968808281902116e-05,\n",
       " -7.968171999435671e-05,\n",
       " -7.967535738782447e-05,\n",
       " -7.966899499953946e-05,\n",
       " -7.966263282945832e-05,\n",
       " -7.96562708776167e-05,\n",
       " -7.96499091440246e-05,\n",
       " -7.964354762867709e-05,\n",
       " -7.963718633159692e-05,\n",
       " -7.963082525280024e-05,\n",
       " -7.962446439228896e-05,\n",
       " -7.961810375008823e-05,\n",
       " -7.961174332619024e-05,\n",
       " -7.960538312060728e-05,\n",
       " -7.959902313337208e-05,\n",
       " -7.959266336446096e-05,\n",
       " -7.958630381395154e-05,\n",
       " -7.957994448178315e-05,\n",
       " -7.957358536800608e-05,\n",
       " -7.95672264726126e-05,\n",
       " -7.956086779560948e-05,\n",
       " -7.955450933707283e-05,\n",
       " -7.954815109693227e-05,\n",
       " -7.954179307520152e-05,\n",
       " -7.953543527192816e-05,\n",
       " -7.952907768717126e-05,\n",
       " -7.952272032082591e-05,\n",
       " -7.95163631730083e-05,\n",
       " -7.951000624365413e-05,\n",
       " -7.95036495328259e-05,\n",
       " -7.94972930405205e-05,\n",
       " -7.949093676671552e-05,\n",
       " -7.948458071148985e-05,\n",
       " -7.947822487480933e-05,\n",
       " -7.947186925668445e-05,\n",
       " -7.946551385712539e-05,\n",
       " -7.945915867616529e-05,\n",
       " -7.945280371383324e-05,\n",
       " -7.94464489700656e-05,\n",
       " -7.9440094444928e-05,\n",
       " -7.943374013843388e-05,\n",
       " -7.942738605058051e-05,\n",
       " -7.942103218139628e-05,\n",
       " -7.941467853085811e-05,\n",
       " -7.940832509898184e-05,\n",
       " -7.94019718858633e-05,\n",
       " -7.93956188914314e-05,\n",
       " -7.938926611567889e-05,\n",
       " -7.938291355867139e-05,\n",
       " -7.93765612203852e-05,\n",
       " -7.937020910084831e-05,\n",
       " -7.936385720008228e-05,\n",
       " -7.935750551809134e-05,\n",
       " -7.935115405487013e-05,\n",
       " -7.934480281046557e-05,\n",
       " -7.933845178485507e-05,\n",
       " -7.933210097803602e-05,\n",
       " -7.932575039006502e-05,\n",
       " -7.931940002095782e-05,\n",
       " -7.931304987065722e-05,\n",
       " -7.930669993926055e-05,\n",
       " -7.930035022671248e-05,\n",
       " -7.929400073308744e-05,\n",
       " -7.928765145831e-05,\n",
       " -7.928130240245493e-05,\n",
       " -7.927495356553284e-05,\n",
       " -7.926860494753448e-05,\n",
       " -7.926225654845906e-05,\n",
       " -7.925590836839058e-05,\n",
       " -7.924956040725295e-05,\n",
       " -7.924321266510067e-05,\n",
       " -7.923686514195172e-05,\n",
       " -7.923051783778791e-05,\n",
       " -7.922417075263717e-05,\n",
       " -7.921782388648877e-05,\n",
       " -7.921147723942078e-05,\n",
       " -7.920513081136442e-05,\n",
       " -7.919878460239833e-05,\n",
       " -7.91924386124705e-05,\n",
       " -7.918609284162815e-05,\n",
       " -7.917974728989851e-05,\n",
       " -7.917340195725728e-05,\n",
       " -7.916705684372159e-05,\n",
       " -7.916071194932226e-05,\n",
       " -7.91543672740409e-05,\n",
       " -7.914802281794368e-05,\n",
       " -7.914167858101922e-05,\n",
       " -7.913533456323558e-05,\n",
       " -7.91289907646439e-05,\n",
       " -7.912264718523943e-05,\n",
       " -7.911630382505509e-05,\n",
       " -7.910996068410413e-05,\n",
       " -7.910361776236964e-05,\n",
       " -7.909727505986766e-05,\n",
       " -7.909093257659692e-05,\n",
       " -7.908459031261337e-05,\n",
       " -7.907824826791286e-05,\n",
       " -7.907190644251663e-05,\n",
       " -7.906556483637967e-05,\n",
       " -7.905922344958997e-05,\n",
       " -7.905288228209347e-05,\n",
       " -7.904654133395672e-05,\n",
       " -7.904020060513126e-05,\n",
       " -7.903386009569059e-05,\n",
       " -7.902751980559486e-05,\n",
       " -7.902117973490929e-05,\n",
       " -7.901483988358411e-05,\n",
       " -7.900850025168087e-05,\n",
       " -7.900216083918443e-05,\n",
       " -7.899582164612862e-05,\n",
       " -7.898948267248787e-05,\n",
       " -7.898314391830109e-05,\n",
       " -7.89768053835627e-05,\n",
       " -7.897046706832762e-05,\n",
       " -7.89641289725481e-05,\n",
       " -7.895779109626003e-05,\n",
       " -7.895145343950625e-05,\n",
       " -7.894511600225293e-05,\n",
       " -7.893877878452498e-05,\n",
       " -7.893244178629641e-05,\n",
       " -7.892610500767704e-05,\n",
       " -7.891976844860696e-05,\n",
       " -7.891343210910556e-05,\n",
       " -7.890709598920605e-05,\n",
       " -7.890076008889096e-05,\n",
       " -7.889442440817194e-05,\n",
       " -7.888808894707687e-05,\n",
       " -7.888175370560203e-05,\n",
       " -7.887541868381542e-05,\n",
       " -7.886908388164823e-05,\n",
       " -7.886274929916647e-05,\n",
       " -7.885641493633444e-05,\n",
       " -7.885008079320369e-05,\n",
       " -7.884374686979929e-05,\n",
       " -7.883741316606487e-05,\n",
       " -7.883107968210791e-05,\n",
       " -7.882474641783249e-05,\n",
       " -7.881841337332978e-05,\n",
       " -7.881208054858246e-05,\n",
       " -7.880574794356583e-05,\n",
       " -7.879941555838516e-05,\n",
       " -7.879308339298784e-05,\n",
       " -7.878675144737327e-05,\n",
       " -7.878041972159743e-05,\n",
       " -7.87740882156254e-05,\n",
       " -7.876775692946381e-05,\n",
       " -7.87614258631994e-05,\n",
       " -7.87550950167918e-05,\n",
       " -7.874876439024893e-05,\n",
       " -7.874243398360788e-05,\n",
       " -7.873610379682195e-05,\n",
       " -7.87297738299725e-05,\n",
       " -7.872344408302384e-05,\n",
       " -7.871711455604195e-05,\n",
       " -7.871078524896524e-05,\n",
       " -7.870445616186045e-05,\n",
       " -7.86981272946855e-05,\n",
       " -7.8691798647502e-05,\n",
       " -7.868547022033374e-05,\n",
       " -7.867914201311756e-05,\n",
       " -7.867281402596286e-05,\n",
       " -7.86664862587975e-05,\n",
       " -7.866015871167336e-05,\n",
       " -7.865383138459572e-05,\n",
       " -7.864750427758412e-05,\n",
       " -7.86411773906355e-05,\n",
       " -7.86348507237499e-05,\n",
       " -7.862852427696026e-05,\n",
       " -7.862219805026427e-05,\n",
       " -7.861587204368167e-05,\n",
       " -7.860954625722795e-05,\n",
       " -7.860322069095696e-05,\n",
       " -7.859689534478572e-05,\n",
       " -7.859057021876986e-05,\n",
       " -7.858424531294611e-05,\n",
       " -7.857792062728509e-05,\n",
       " -7.857159616181572e-05,\n",
       " -7.85652719165713e-05,\n",
       " -7.855894789153163e-05,\n",
       " -7.855262408672077e-05,\n",
       " -7.85463005021745e-05,\n",
       " -7.853997713783548e-05,\n",
       " -7.85336539937778e-05,\n",
       " -7.852733106999999e-05,\n",
       " -7.852100836652547e-05,\n",
       " -7.851468588330373e-05,\n",
       " -7.850836362043009e-05,\n",
       " -7.850204157783564e-05,\n",
       " -7.84957197555998e-05,\n",
       " -7.848939815371125e-05,\n",
       " -7.848307677213958e-05,\n",
       " -7.847675561098235e-05,\n",
       " -7.84704346701731e-05,\n",
       " -7.846411394976708e-05,\n",
       " -7.845779344972679e-05,\n",
       " -7.845147317015188e-05,\n",
       " -7.844515311095727e-05,\n",
       " -7.843883327219507e-05,\n",
       " -7.843251365392154e-05,\n",
       " -7.842619425609439e-05,\n",
       " -7.841987507871263e-05,\n",
       " -7.841355612179404e-05,\n",
       " -7.84072373854122e-05,\n",
       " -7.840091886950956e-05,\n",
       " -7.839460057411725e-05,\n",
       " -7.838828249925433e-05,\n",
       " -7.838196464493848e-05,\n",
       " -7.837564701118015e-05,\n",
       " -7.836932959796941e-05,\n",
       " -7.836301240531698e-05,\n",
       " -7.835669543325016e-05,\n",
       " -7.835037868179817e-05,\n",
       " -7.834406215092726e-05,\n",
       " -7.833774584068757e-05,\n",
       " -7.833142975110145e-05,\n",
       " -7.832511388212405e-05,\n",
       " -7.831879823379808e-05,\n",
       " -7.83124828061631e-05,\n",
       " -7.830616759917649e-05,\n",
       " -7.829985261289634e-05,\n",
       " -7.829353784730977e-05,\n",
       " -7.828722330243032e-05,\n",
       " -7.828090897824066e-05,\n",
       " -7.827459487485528e-05,\n",
       " -7.82682809921412e-05,\n",
       " -7.826196733023222e-05,\n",
       " -7.825565388904092e-05,\n",
       " -7.824934066866044e-05,\n",
       " -7.824302766907012e-05,\n",
       " -7.823671489031216e-05,\n",
       " -7.823040233228274e-05,\n",
       " -7.822408999514602e-05,\n",
       " -7.821777787878901e-05,\n",
       " -7.821146598335283e-05,\n",
       " -7.820515430873802e-05,\n",
       " -7.819884285497555e-05,\n",
       " -7.819253162211575e-05,\n",
       " -7.818622061012025e-05,\n",
       " -7.817990981906951e-05,\n",
       " -7.817359924891747e-05,\n",
       " -7.816728889967871e-05,\n",
       " -7.81609787714126e-05,\n",
       " -7.815466886404287e-05,\n",
       " -7.8148359177692e-05,\n",
       " -7.814204971228022e-05,\n",
       " -7.81357404678615e-05,\n",
       " -7.812943144440105e-05,\n",
       " -7.812312264201743e-05,\n",
       " -7.811681406063239e-05,\n",
       " -7.811050570026844e-05,\n",
       " -7.810419756096414e-05,\n",
       " -7.80978896426825e-05,\n",
       " -7.809158194545857e-05,\n",
       " -7.808527446935922e-05,\n",
       " -7.80789672143062e-05,\n",
       " -7.807266018035081e-05,\n",
       " -7.806635336749307e-05,\n",
       " -7.806004677582027e-05,\n",
       " -7.805374040523004e-05,\n",
       " -7.804743425578414e-05,\n",
       " -7.804112832750473e-05,\n",
       " -7.803482262041998e-05,\n",
       " -7.80285171344836e-05,\n",
       " -7.802221186975519e-05,\n",
       " -7.801590682620257e-05,\n",
       " -7.800960200389331e-05,\n",
       " -7.800329740280436e-05,\n",
       " -7.799699302293794e-05,\n",
       " -7.799068886432759e-05,\n",
       " -7.79843849269536e-05,\n",
       " -7.797808121086918e-05,\n",
       " -7.79717777160882e-05,\n",
       " -7.79654744426067e-05,\n",
       " -7.795917139039382e-05,\n",
       " -7.795286855951041e-05,\n",
       " -7.794656594993785e-05,\n",
       " -7.794026356176797e-05,\n",
       " -7.79339613948727e-05,\n",
       " -7.792765944936919e-05,\n",
       " -7.792135772523847e-05,\n",
       " -7.791505622248239e-05,\n",
       " -7.790875494117724e-05,\n",
       " -7.790245388121867e-05,\n",
       " -7.789615304272765e-05,\n",
       " -7.78898524256047e-05,\n",
       " -7.788355202999516e-05,\n",
       " -7.787725185580576e-05,\n",
       " -7.787095190307147e-05,\n",
       " -7.78646521718301e-05,\n",
       " -7.785835266204094e-05,\n",
       " -7.785205337378988e-05,\n",
       " -7.784575430708256e-05,\n",
       " -7.783945546185933e-05,\n",
       " -7.783315683816027e-05,\n",
       " -7.782685843603747e-05,\n",
       " -7.782056025544044e-05,\n",
       " -7.78142622964362e-05,\n",
       " -7.780796455898029e-05,\n",
       " -7.780166704315262e-05,\n",
       " -7.779536974892153e-05,\n",
       " -7.778907267628481e-05,\n",
       " -7.778277582529025e-05,\n",
       " -7.777647919592206e-05,\n",
       " -7.777018278822631e-05,\n",
       " -7.77638866021741e-05,\n",
       " -7.775759063778825e-05,\n",
       " -7.77512948950893e-05,\n",
       " -7.77449993740875e-05,\n",
       " -7.773870407479493e-05,\n",
       " -7.773240899722699e-05,\n",
       " -7.772611414135569e-05,\n",
       " -7.771981950728246e-05,\n",
       " -7.771352509491276e-05,\n",
       " -7.770723090431481e-05,\n",
       " -7.770093693548704e-05,\n",
       " -7.769464318845396e-05,\n",
       " -7.768834966324446e-05,\n",
       " -7.768205635981457e-05,\n",
       " -7.767576327822054e-05,\n",
       " -7.766947041844959e-05,\n",
       " -7.766317778053657e-05,\n",
       " -7.765688536445192e-05,\n",
       " -7.765059317025321e-05,\n",
       " -7.764430119793898e-05,\n",
       " -7.763800944748719e-05,\n",
       " -7.763171791897767e-05,\n",
       " -7.762542661233563e-05,\n",
       " -7.761913552764388e-05,\n",
       " -7.761284466487635e-05,\n",
       " -7.760655402407784e-05,\n",
       " -7.760026360520661e-05,\n",
       " -7.75939734083357e-05,\n",
       " -7.758768343341582e-05,\n",
       " -7.758139368051075e-05,\n",
       " -7.757510414959284e-05,\n",
       " -7.756881484070454e-05,\n",
       " -7.756252575384277e-05,\n",
       " -7.755623688898601e-05,\n",
       " -7.754994824624178e-05,\n",
       " -7.754365982549586e-05,\n",
       " -7.753737162685292e-05,\n",
       " -7.75310836503021e-05,\n",
       " -7.752479589586596e-05,\n",
       " -7.75185083634921e-05,\n",
       " -7.75122210532557e-05,\n",
       " -7.750593396514349e-05,\n",
       " -7.749964709917646e-05,\n",
       " -7.749336045535508e-05,\n",
       " -7.748707403372189e-05,\n",
       " -7.748078783423811e-05,\n",
       " -7.747450185693327e-05,\n",
       " -7.74682161018582e-05,\n",
       " -7.74619305689776e-05,\n",
       " -7.74556452583323e-05,\n",
       " -7.74493601699229e-05,\n",
       " -7.744307530372984e-05,\n",
       " -7.743679065978976e-05,\n",
       " -7.743050623815628e-05,\n",
       " -7.742422203877884e-05,\n",
       " -7.74179380616924e-05,\n",
       " -7.741165430692877e-05,\n",
       " -7.740537077446083e-05,\n",
       " -7.739908746428763e-05,\n",
       " -7.739280437650646e-05,\n",
       " -7.738652151104855e-05,\n",
       " -7.738023886792389e-05,\n",
       " -7.737395644719756e-05,\n",
       " -7.736767424884464e-05,\n",
       " -7.736139227288935e-05,\n",
       " -7.735511051933971e-05,\n",
       " -7.734882898819723e-05,\n",
       " -7.734254767949989e-05,\n",
       " -7.733626659325427e-05,\n",
       " -7.732998572940459e-05,\n",
       " -7.732370508805866e-05,\n",
       " -7.731742466920588e-05,\n",
       " -7.731114447280692e-05,\n",
       " -7.730486449888329e-05,\n",
       " -7.729858474748964e-05,\n",
       " -7.729230521861983e-05,\n",
       " -7.72860259122686e-05,\n",
       " -7.727974682848297e-05,\n",
       " -7.727346796721996e-05,\n",
       " -7.726718932855879e-05,\n",
       " -7.726091091244082e-05,\n",
       " -7.725463271893844e-05,\n",
       " -7.724835474801345e-05,\n",
       " -7.72420769997125e-05,\n",
       " -7.723579947404155e-05,\n",
       " -7.722952217097054e-05,\n",
       " -7.72232450905782e-05,\n",
       " -7.721696823280943e-05,\n",
       " -7.721069159774977e-05,\n",
       " -7.720441518536882e-05,\n",
       " -7.719813899563269e-05,\n",
       " -7.71918630286441e-05,\n",
       " -7.718558728435457e-05,\n",
       " -7.717931176276633e-05,\n",
       " -7.717303646394818e-05,\n",
       " -7.716676138784693e-05,\n",
       " -7.716048653455323e-05,\n",
       " -7.71542119039669e-05,\n",
       " -7.714793749623377e-05,\n",
       " -7.714166331124782e-05,\n",
       " -7.713538934909444e-05,\n",
       " -7.712911560974762e-05,\n",
       " -7.712284209322567e-05,\n",
       " -7.711656879951503e-05,\n",
       " -7.71102957286967e-05,\n",
       " -7.710402288072584e-05,\n",
       " -7.7097750255623e-05,\n",
       " -7.709147785343117e-05,\n",
       " -7.708520567413129e-05,\n",
       " -7.707893371771974e-05,\n",
       " -7.707266198421917e-05,\n",
       " -7.706639047367051e-05,\n",
       " -7.706011918605543e-05,\n",
       " -7.705384812140264e-05,\n",
       " -7.704757727970946e-05,\n",
       " -7.704130666103888e-05,\n",
       " -7.703503626530231e-05,\n",
       " -7.702876609254352e-05,\n",
       " -7.702249614283487e-05,\n",
       " -7.701622641616611e-05,\n",
       " -7.700995691249731e-05,\n",
       " -7.700368763189987e-05,\n",
       " -7.699741857434694e-05,\n",
       " -7.699114973987845e-05,\n",
       " -7.698488112845767e-05,\n",
       " -7.697861274014105e-05,\n",
       " -7.697234457493856e-05,\n",
       " -7.69660766328699e-05,\n",
       " -7.69598089138935e-05,\n",
       " -7.695354141806763e-05,\n",
       " -7.694727414536928e-05,\n",
       " -7.694100709586045e-05,\n",
       " -7.693474026948297e-05,\n",
       " -7.692847366636077e-05,\n",
       " -7.692220728637485e-05,\n",
       " -7.691594112962016e-05,\n",
       " -7.690967519606676e-05,\n",
       " -7.690340948573021e-05,\n",
       " -7.689714399865682e-05,\n",
       " -7.689087873483295e-05,\n",
       " -7.688461369427298e-05,\n",
       " -7.687834887699387e-05,\n",
       " -7.687208428297133e-05,\n",
       " -7.686581991228111e-05,\n",
       " -7.685955576487031e-05,\n",
       " -7.685329184080072e-05,\n",
       " -7.684702814005239e-05,\n",
       " -7.684076466266807e-05,\n",
       " -7.683450140862407e-05,\n",
       " -7.68282383779221e-05,\n",
       " -7.682197557063967e-05,\n",
       " -7.681571298672215e-05,\n",
       " -7.680945062618989e-05,\n",
       " -7.680318848910986e-05,\n",
       " -7.679692657538519e-05,\n",
       " -7.679066488519264e-05,\n",
       " -7.678440341838147e-05,\n",
       " -7.677814217502845e-05,\n",
       " -7.677188115521794e-05,\n",
       " -7.676562035876731e-05,\n",
       " -7.675935978587647e-05,\n",
       " -7.675309943650572e-05,\n",
       " -7.674683931061924e-05,\n",
       " -7.674057940827815e-05,\n",
       " -7.673431972944275e-05,\n",
       " -7.672806027419722e-05,\n",
       " -7.672180104246657e-05,\n",
       " -7.671554203434387e-05,\n",
       " -7.670928324980504e-05,\n",
       " -7.670302468882995e-05,\n",
       " -7.669676635150519e-05,\n",
       " -7.669050823779045e-05,\n",
       " -7.668425034765503e-05,\n",
       " -7.667799268122652e-05,\n",
       " -7.667173523843735e-05,\n",
       " -7.666547801926185e-05,\n",
       " -7.665922102377488e-05,\n",
       " -7.665296425201822e-05,\n",
       " -7.664670770392763e-05,\n",
       " -7.664045137954364e-05,\n",
       " -7.663419527887697e-05,\n",
       " -7.662793940198507e-05,\n",
       " -7.662168374881117e-05,\n",
       " -7.661542831938999e-05,\n",
       " -7.660917311370891e-05,\n",
       " -7.660291813183115e-05,\n",
       " -7.659666337376401e-05,\n",
       " -7.659040883946456e-05,\n",
       " -7.65841545289772e-05,\n",
       " -7.657790044234065e-05,\n",
       " -7.657164657949083e-05,\n",
       " -7.656539294052338e-05,\n",
       " -7.655913952540768e-05,\n",
       " -7.655288633416816e-05,\n",
       " -7.654663336681415e-05,\n",
       " -7.65403806233446e-05,\n",
       " -7.653412810377673e-05,\n",
       " -7.65278758081087e-05,\n",
       " -7.652162373640425e-05,\n",
       " -7.651537188859163e-05,\n",
       " -7.650912026476998e-05,\n",
       " -7.650286886488842e-05,\n",
       " -7.64966176889897e-05,\n",
       " -7.649036673704883e-05,\n",
       " -7.648411600911823e-05,\n",
       " -7.647786550522232e-05,\n",
       " -7.647161522528092e-05,\n",
       " -7.646536516946848e-05,\n",
       " -7.645911533764065e-05,\n",
       " -7.645286572983406e-05,\n",
       " -7.644661634613362e-05,\n",
       " -7.644036718648396e-05,\n",
       " -7.643411825091686e-05,\n",
       " -7.642786953948563e-05,\n",
       " -7.642162105212317e-05,\n",
       " -7.641537278888188e-05,\n",
       " -7.640912474979317e-05,\n",
       " -7.640287693486475e-05,\n",
       " -7.639662934406364e-05,\n",
       " -7.639038197745567e-05,\n",
       " -7.638413483496457e-05,\n",
       " -7.637788791670967e-05,\n",
       " -7.637164122267404e-05,\n",
       " -7.636539475285283e-05,\n",
       " -7.635914850722699e-05,\n",
       " -7.635290248582274e-05,\n",
       " -7.634665668868792e-05,\n",
       " -7.634041111579126e-05,\n",
       " -7.63341657671885e-05,\n",
       " -7.632792064284805e-05,\n",
       " -7.632167574280194e-05,\n",
       " -7.631543106704839e-05,\n",
       " -7.630918661564305e-05,\n",
       " -7.630294238854122e-05,\n",
       " -7.629669838582363e-05,\n",
       " -7.62904546074084e-05,\n",
       " -7.628421105334494e-05,\n",
       " -7.627796772367446e-05,\n",
       " -7.627172461838265e-05,\n",
       " -7.62654817374864e-05,\n",
       " -7.625923908099978e-05,\n",
       " -7.625299664892387e-05,\n",
       " -7.624675444129342e-05,\n",
       " -7.624051245808389e-05,\n",
       " -7.62342706993532e-05,\n",
       " -7.622802916506665e-05,\n",
       " -7.622178785527753e-05,\n",
       " -7.621554676996031e-05,\n",
       " -7.62093059090915e-05,\n",
       " -7.620306527282046e-05,\n",
       " -7.619682486101879e-05,\n",
       " -7.619058467372712e-05,\n",
       " -7.618434471103644e-05,\n",
       " -7.617810497287343e-05,\n",
       " -7.617186545926049e-05,\n",
       " -7.616562617026808e-05,\n",
       " -7.615938710580431e-05,\n",
       " -7.615314826601752e-05,\n",
       " -7.614690965077652e-05,\n",
       " -7.614067126018837e-05,\n",
       " -7.613443309424753e-05,\n",
       " -7.612819515295254e-05,\n",
       " -7.612195743629642e-05,\n",
       " -7.611571994430307e-05,\n",
       " -7.610948267701394e-05,\n",
       " -7.610324563440613e-05,\n",
       " -7.609700881650071e-05,\n",
       " -7.609077222331767e-05,\n",
       " -7.608453585484788e-05,\n",
       " -7.607829971111632e-05,\n",
       " -7.607206379213906e-05,\n",
       " -7.606582809793313e-05,\n",
       " -7.605959262849325e-05,\n",
       " -7.605335738383036e-05,\n",
       " -7.604712236396012e-05,\n",
       " -7.604088756891733e-05,\n",
       " -7.603465299865971e-05,\n",
       " -7.60284186532844e-05,\n",
       " -7.60221845326967e-05,\n",
       " -7.601595063699275e-05,\n",
       " -7.600971696612438e-05,\n",
       " -7.600348352015273e-05,\n",
       " -7.599725029907264e-05,\n",
       " -7.599101730285638e-05,\n",
       " -7.5984784531595e-05,\n",
       " -7.597855198522382e-05,\n",
       " -7.597231966377667e-05,\n",
       " -7.596608756731414e-05,\n",
       " -7.595985569575692e-05,\n",
       " -7.595362404919334e-05,\n",
       " -7.594739262760793e-05,\n",
       " -7.594116143101784e-05,\n",
       " -7.59349304594288e-05,\n",
       " -7.592869971283918e-05,\n",
       " -7.592246919126622e-05,\n",
       " -7.591623889477138e-05,\n",
       " -7.591000882327102e-05,\n",
       " -7.590377897684392e-05,\n",
       " -7.589754935549307e-05,\n",
       " -7.589131995922492e-05,\n",
       " -7.588509078804514e-05,\n",
       " -7.587886184197369e-05,\n",
       " -7.587263312098958e-05,\n",
       " -7.586640462515766e-05,\n",
       " -7.586017635446453e-05,\n",
       " -7.585394830892139e-05,\n",
       " -7.584772048851116e-05,\n",
       " -7.584149289331883e-05,\n",
       " -7.583526552325568e-05,\n",
       " -7.582903837844605e-05,\n",
       " -7.582281145878907e-05,\n",
       " -7.581658476439865e-05,\n",
       " -7.581035829519758e-05,\n",
       " -7.58041320512748e-05,\n",
       " -7.579790603255113e-05,\n",
       " -7.579168023915273e-05,\n",
       " -7.578545467098589e-05,\n",
       " -7.577922932813636e-05,\n",
       " -7.57730042105419e-05,\n",
       " -7.576677931828785e-05,\n",
       " -7.576055465134744e-05,\n",
       " -7.575433020973146e-05,\n",
       " -7.574810599344615e-05,\n",
       " -7.57418820025568e-05,\n",
       " -7.573565823701141e-05,\n",
       " -7.572943469684308e-05,\n",
       " -7.572321138208198e-05,\n",
       " -7.57169882926742e-05,\n",
       " -7.571076542870306e-05,\n",
       " -7.570454279015736e-05,\n",
       " -7.569832037708687e-05,\n",
       " -7.569209818939943e-05,\n",
       " -7.568587622721357e-05,\n",
       " -7.567965449043978e-05,\n",
       " -7.567343297917455e-05,\n",
       " -7.566721169345678e-05,\n",
       " -7.56609906331856e-05,\n",
       " -7.565476979842664e-05,\n",
       " -7.5648549189205e-05,\n",
       " -7.564232880553429e-05,\n",
       " -7.563610864738138e-05,\n",
       " -7.562988871479023e-05,\n",
       " -7.562366900779109e-05,\n",
       " -7.561744952639021e-05,\n",
       " -7.561123027055506e-05,\n",
       " -7.560501124033888e-05,\n",
       " -7.559879243573829e-05,\n",
       " -7.559257385678336e-05,\n",
       " -7.558635550339062e-05,\n",
       " -7.558013737573388e-05,\n",
       " -7.557391947372126e-05,\n",
       " -7.55677017973651e-05,\n",
       " -7.556148434670073e-05,\n",
       " -7.555526712176789e-05,\n",
       " -7.554905012247253e-05,\n",
       " -7.554283334893758e-05,\n",
       " -7.55366168011705e-05,\n",
       " -7.553040047909419e-05,\n",
       " -7.552418438280064e-05,\n",
       " -7.551796851222933e-05,\n",
       " -7.551175286747594e-05,\n",
       " -7.550553744849711e-05,\n",
       " -7.54993222553248e-05,\n",
       " -7.549310728797564e-05,\n",
       " -7.548689254642898e-05,\n",
       " -7.548067803071252e-05,\n",
       " -7.547446374085174e-05,\n",
       " -7.54682496768278e-05,\n",
       " -7.546203583870951e-05,\n",
       " -7.5455822226458e-05,\n",
       " -7.544960884006246e-05,\n",
       " -7.544339567963348e-05,\n",
       " -7.543718274506279e-05,\n",
       " -7.543097003646836e-05,\n",
       " -7.542475755373673e-05,\n",
       " -7.541854529702717e-05,\n",
       " -7.54123332662359e-05,\n",
       " -7.54061214613911e-05,\n",
       " -7.539990988258754e-05,\n",
       " -7.539369852974373e-05,\n",
       " -7.538748740292927e-05,\n",
       " -7.538127650212818e-05,\n",
       " -7.537506582734824e-05,\n",
       " -7.536885537859752e-05,\n",
       " -7.536264515587205e-05,\n",
       " -7.535643515926457e-05,\n",
       " -7.535022538872331e-05,\n",
       " -7.534401584420865e-05,\n",
       " -7.533780652583634e-05,\n",
       " -7.533159743358816e-05,\n",
       " -7.532538856742115e-05,\n",
       " -7.531917992741943e-05,\n",
       " -7.53129715135285e-05,\n",
       " -7.530676332580201e-05,\n",
       " -7.530055536425458e-05,\n",
       " -7.529434762887646e-05,\n",
       " -7.5288140119667e-05,\n",
       " -7.52819328366629e-05,\n",
       " -7.52757257798898e-05,\n",
       " -7.526951894932442e-05,\n",
       " -7.526331234499816e-05,\n",
       " -7.525710596691832e-05,\n",
       " -7.525089981507305e-05,\n",
       " -7.524469388951274e-05,\n",
       " -7.523848819023208e-05,\n",
       " -7.523228271724846e-05,\n",
       " -7.522607747055277e-05,\n",
       " -7.52198724501633e-05,\n",
       " -7.521366765608092e-05,\n",
       " -7.520746308838784e-05,\n",
       " -7.520125874704472e-05,\n",
       " -7.519505463202198e-05,\n",
       " -7.518885074337794e-05,\n",
       " -7.518264708112101e-05,\n",
       " -7.517644364524756e-05,\n",
       " -7.51702404357596e-05,\n",
       " -7.516403745276188e-05,\n",
       " -7.515783469613031e-05,\n",
       " -7.515163216592417e-05,\n",
       " -7.514542986222376e-05,\n",
       " -7.5139227784915e-05,\n",
       " -7.513302593413925e-05,\n",
       " -7.51268243098161e-05,\n",
       " -7.512062291198931e-05,\n",
       " -7.511442174069482e-05,\n",
       " -7.510822079589911e-05,\n",
       " -7.510202007764178e-05,\n",
       " -7.509581958591232e-05,\n",
       " -7.508961932074435e-05,\n",
       " -7.508341928214036e-05,\n",
       " -7.507721947010858e-05,\n",
       " -7.507101988466968e-05,\n",
       " -7.506482052582267e-05,\n",
       " -7.50586213935752e-05,\n",
       " -7.505242248795498e-05,\n",
       " -7.504622380901391e-05,\n",
       " -7.504002535664537e-05,\n",
       " -7.503382713097242e-05,\n",
       " -7.502762913195145e-05,\n",
       " -7.50214313596014e-05,\n",
       " -7.501523381394385e-05,\n",
       " -7.500903649499005e-05,\n",
       " -7.500283940275618e-05,\n",
       " -7.499664253724142e-05,\n",
       " -7.499044589848244e-05,\n",
       " -7.498424948642921e-05,\n",
       " -7.497805330116005e-05,\n",
       " -7.497185734266023e-05,\n",
       " -7.496566161092753e-05,\n",
       " -7.495946610599848e-05,\n",
       " -7.495327082786918e-05,\n",
       " -7.494707577655154e-05,\n",
       " -7.494088095208526e-05,\n",
       " -7.493468635443475e-05,\n",
       " -7.49284919836071e-05,\n",
       " -7.492229783965581e-05,\n",
       " -7.49161039225994e-05,\n",
       " -7.49099102324069e-05,\n",
       " -7.490371676911674e-05,\n",
       " -7.489752353274431e-05,\n",
       " -7.489133052325675e-05,\n",
       " -7.488513774072985e-05,\n",
       " -7.487894518510772e-05,\n",
       " -7.487275285646314e-05,\n",
       " -7.486656075477146e-05,\n",
       " -7.486036888006439e-05,\n",
       " -7.485417723232623e-05,\n",
       " -7.484798581160666e-05,\n",
       " -7.484179461788401e-05,\n",
       " -7.483560365117008e-05,\n",
       " -7.482941291150024e-05,\n",
       " -7.482322239889554e-05,\n",
       " -7.481703211330239e-05,\n",
       " -7.481084205482032e-05,\n",
       " -7.480465222334395e-05,\n",
       " -7.479846261899255e-05,\n",
       " -7.479227324176343e-05,\n",
       " -7.478608409162708e-05,\n",
       " -7.477989516861395e-05,\n",
       " -7.477370647276444e-05,\n",
       " -7.476751800400887e-05,\n",
       " -7.476132976242723e-05,\n",
       " -7.475514174801389e-05,\n",
       " -7.474895396078893e-05,\n",
       " -7.474276640076992e-05,\n",
       " -7.47365790679132e-05,\n",
       " -7.473039196227612e-05,\n",
       " -7.472420508390037e-05,\n",
       " -7.471801843273259e-05,\n",
       " -7.471183200881736e-05,\n",
       " -7.47056458121453e-05,\n",
       " -7.469945984276091e-05,\n",
       " -7.469327410066072e-05,\n",
       " -7.468708858584475e-05,\n",
       " -7.468090329834186e-05,\n",
       " -7.46747182381279e-05,\n",
       " -7.466853340529957e-05,\n",
       " -7.466234879975733e-05,\n",
       " -7.465616442158985e-05,\n",
       " -7.464998027074981e-05,\n",
       " -7.464379634734055e-05,\n",
       " -7.463761265128659e-05,\n",
       " -7.463142918262455e-05,\n",
       " -7.462524594135818e-05,\n",
       " -7.46190629275243e-05,\n",
       " -7.461288014115884e-05,\n",
       " -7.460669758216931e-05,\n",
       " -7.46005152506539e-05,\n",
       " -7.459433314660097e-05,\n",
       " -7.45881512700345e-05,\n",
       " -7.45819696209601e-05,\n",
       " -7.457578819935532e-05,\n",
       " -7.456960700526322e-05,\n",
       " -7.45634260387162e-05,\n",
       " -7.45572452997099e-05,\n",
       " -7.455106478821979e-05,\n",
       " -7.454488450429379e-05,\n",
       " -7.453870444793713e-05,\n",
       " -7.453252461916901e-05,\n",
       " -7.452634501797255e-05,\n",
       " -7.452016564436502e-05,\n",
       " -7.45139864983919e-05,\n",
       " -7.45078075800439e-05,\n",
       " -7.45016288893004e-05,\n",
       " -7.44954504262342e-05,\n",
       " -7.448927219081572e-05,\n",
       " -7.448309418307803e-05,\n",
       " -7.447691640300834e-05,\n",
       " -7.44707388506052e-05,\n",
       " -7.446456152594221e-05,\n",
       " -7.445838442897243e-05,\n",
       " -7.445220755973718e-05,\n",
       " -7.444603091824691e-05,\n",
       " -7.44398545044982e-05,\n",
       " -7.443367831850102e-05,\n",
       " -7.442750236029943e-05,\n",
       " -7.442132662987645e-05,\n",
       " -7.44151511272244e-05,\n",
       " -7.440897585238254e-05,\n",
       " -7.44028008053837e-05,\n",
       " -7.43966259861687e-05,\n",
       " -7.439045139483488e-05,\n",
       " -7.43842770313444e-05,\n",
       " -7.437810289569384e-05,\n",
       " -7.437192898794169e-05,\n",
       " -7.436575530803694e-05,\n",
       " -7.435958185607328e-05,\n",
       " -7.435340863198141e-05,\n",
       " -7.434723563585305e-05,\n",
       " -7.43410628676155e-05,\n",
       " -7.433489032731367e-05,\n",
       " -7.432871801500137e-05,\n",
       " -7.432254593066702e-05,\n",
       " -7.431637407424097e-05,\n",
       " -7.431020244585022e-05,\n",
       " -7.430403104544844e-05,\n",
       " -7.429785987305416e-05,\n",
       " -7.429168892869432e-05,\n",
       " -7.428551821233639e-05,\n",
       " -7.427934772405589e-05,\n",
       " -7.42731774638168e-05,\n",
       " -7.426700743161831e-05,\n",
       " -7.426083762755465e-05,\n",
       " -7.425466805157537e-05,\n",
       " -7.42484987036803e-05,\n",
       " -7.424232958385863e-05,\n",
       " -7.423616069223042e-05,\n",
       " -7.422999202871228e-05,\n",
       " -7.422382359330771e-05,\n",
       " -7.4217655386077e-05,\n",
       " -7.421148740704516e-05,\n",
       " -7.420531965615431e-05,\n",
       " -7.419915213348113e-05,\n",
       " -7.419298483900757e-05,\n",
       " -7.418681777273614e-05,\n",
       " -7.418065093467885e-05,\n",
       " -7.417448432490247e-05,\n",
       " -7.416831794334614e-05,\n",
       " -7.416215179006138e-05,\n",
       " -7.415598586504572e-05,\n",
       " -7.414982016831294e-05,\n",
       " -7.414365469989122e-05,\n",
       " -7.413748945977098e-05,\n",
       " -7.41313244479309e-05,\n",
       " -7.412515966446131e-05,\n",
       " -7.411899510930065e-05,\n",
       " -7.411283078251093e-05,\n",
       " -7.41066666840754e-05,\n",
       " -7.410050281403186e-05,\n",
       " -7.409433917235884e-05,\n",
       " -7.40881757590758e-05,\n",
       " -7.408201257421195e-05,\n",
       " -7.407584961775068e-05,\n",
       " -7.406968688975148e-05,\n",
       " -7.406352439019923e-05,\n",
       " -7.405736211906007e-05,\n",
       " -7.4051200076389e-05,\n",
       " -7.40450382622285e-05,\n",
       " -7.403887667657266e-05,\n",
       " -7.403271531933045e-05,\n",
       " -7.402655419066519e-05,\n",
       " -7.402039329053158e-05,\n",
       " -7.40142326188933e-05,\n",
       " -7.400807217581509e-05,\n",
       " -7.400191196129229e-05,\n",
       " -7.399575197532601e-05,\n",
       " -7.398959221795805e-05,\n",
       " -7.398343268916687e-05,\n",
       " -7.397727338898204e-05,\n",
       " -7.39711143174087e-05,\n",
       " -7.396495547448711e-05,\n",
       " -7.395879686016047e-05,\n",
       " -7.395263847450512e-05,\n",
       " -7.394648031748914e-05,\n",
       " -7.394032238914968e-05,\n",
       " -7.393416468950249e-05,\n",
       " -7.392800721854097e-05,\n",
       " -7.39218499762676e-05,\n",
       " -7.391569296275182e-05,\n",
       " -7.390953617791027e-05,\n",
       " -7.390337962181315e-05,\n",
       " -7.389722329451401e-05,\n",
       " -7.389106719593129e-05,\n",
       " -7.388491132613572e-05,\n",
       " -7.387875568512259e-05,\n",
       " -7.387260027291388e-05,\n",
       " -7.386644508951764e-05,\n",
       " -7.386029013487045e-05,\n",
       " -7.385413540912765e-05,\n",
       " -7.384798091219586e-05,\n",
       " -7.384182664413203e-05,\n",
       " -7.383567260493445e-05,\n",
       " -7.382951879458879e-05,\n",
       " -7.382336521311196e-05,\n",
       " -7.381721186057402e-05,\n",
       " -7.381105873696531e-05,\n",
       " -7.380490584219821e-05,\n",
       " -7.379875317639739e-05,\n",
       " -7.379260073957407e-05,\n",
       " -7.378644853164856e-05,\n",
       " -7.378029655274634e-05,\n",
       " -7.377414480277975e-05,\n",
       " -7.376799328182128e-05,\n",
       " -7.376184198984765e-05,\n",
       " -7.375569092686957e-05,\n",
       " -7.374954009296081e-05,\n",
       " -7.374338948804626e-05,\n",
       " -7.373723911218075e-05,\n",
       " -7.37310889654079e-05,\n",
       " -7.372493904766564e-05,\n",
       " -7.371878935900549e-05,\n",
       " -7.371263989943634e-05,\n",
       " -7.37064906689701e-05,\n",
       " -7.370034166763307e-05,\n",
       " -7.369419289540224e-05,\n",
       " -7.368804435231657e-05,\n",
       " -7.368189603836958e-05,\n",
       " -7.367574795356573e-05,\n",
       " -7.366960009795339e-05,\n",
       " -7.366345247153136e-05,\n",
       " -7.365730507427773e-05,\n",
       " -7.365115790625712e-05,\n",
       " -7.36450109674312e-05,\n",
       " -7.363886425782382e-05,\n",
       " -7.363271777746945e-05,\n",
       " -7.362657152637857e-05,\n",
       " -7.362042550453127e-05,\n",
       " -7.361427971193267e-05,\n",
       " -7.360813414864155e-05,\n",
       " -7.360198881464083e-05,\n",
       " -7.359584370993868e-05,\n",
       " ...]"
      ]
     },
     "execution_count": 79,
     "metadata": {},
     "output_type": "execute_result"
    }
   ],
   "source": [
    "baye2"
   ]
  },
  {
   "cell_type": "code",
   "execution_count": 82,
   "metadata": {},
   "outputs": [],
   "source": [
    "p = np.arange(-10,10000,1)\n",
    "baye2 = [exp_val(w_a,p,chi,sigma)[0]/gaussian_denominator(w_a,p,chi,sigma) for p in p]\n"
   ]
  },
  {
   "cell_type": "code",
   "execution_count": 83,
   "metadata": {},
   "outputs": [
    {
     "data": {
      "text/plain": [
       "<matplotlib.lines.Line2D at 0x7fd5aff43b30>"
      ]
     },
     "execution_count": 83,
     "metadata": {},
     "output_type": "execute_result"
    },
    {
     "data": {
      "image/png": "[encoded data removed]",
      "text/plain": [
       "<Figure size 640x480 with 1 Axes>"
      ]
     },
     "metadata": {},
     "output_type": "display_data"
    }
   ],
   "source": [
    "plt.plot(p,baye2)\n",
    "plt.axhline(y=bayesian_naive(w_a,chi,sigma), color='r', linestyle='-')"
   ]
  }
 ],
 "metadata": {
  "kernelspec": {
   "display_name": "usr",
   "language": "python",
   "name": "python3"
  },
  "language_info": {
   "codemirror_mode": {
    "name": "ipython",
    "version": 3
   },
   "file_extension": ".py",
   "mimetype": "text/x-python",
   "name": "python",
   "nbconvert_exporter": "python",
   "pygments_lexer": "ipython3",
   "version": "3.12.3"
  }
 },
 "nbformat": 4,
 "nbformat_minor": 2
}
