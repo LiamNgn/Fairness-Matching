{
 "cells": [
  {
   "cell_type": "code",
   "execution_count": 2,
   "metadata": {},
   "outputs": [],
   "source": [
    "#Import packages\n",
    "from scipy.stats import norm\n",
    "import matplotlib.pyplot as plt\n",
    "import numpy as np\n",
    "from scipy.integrate import quad\n",
    "import seaborn as sns"
   ]
  },
  {
   "cell_type": "markdown",
   "metadata": {},
   "source": [
    "### Calculating the Bayesian Optimal estimator"
   ]
  },
  {
   "cell_type": "markdown",
   "metadata": {},
   "source": [
    "We assume that all students have a latent quality $W$, their scores $\\hat{W^A},\\hat{W^B}$ are respectively the rating scores of college A and B. These ratings scores are the sum of the latent quality and a noise term $\\varepsilon$ drawn indepdently at each college, i.e. \n",
    "\\begin{equation}\n",
    "   \\forall s \\in S, \\text{ for } C \\in \\{A,B\\}, \\widehat{W^C_s} = \\varepsilon_s^C + W_s \n",
    "\\end{equation}\n",
    "where $S$ is the student set and $s$ is an arbitrary student. Moreover, we assume that the latent qualities of all students are drawn from a (group-indepedent) normal distribution, the noises are also normally distributed and depend on the group:\n",
    "\\begin{equation}\n",
    "     \\forall s \\in S, \\text{ for } C \\in \\{A,B\\}, W_s \\sim \\mathcal{N}(0,\\chi^2), \\varepsilon^C_s \\sim \\mathcal{N}(0,\\sigma^2_{G(s)}).\n",
    "\\end{equation}\n",
    "$\\hat{W}_s^C$ then is a normal distribution with mean $0$ and variance $\\chi_{G(s)}^2 = \\chi^2 + \\sigma^2_{G(s)}$."
   ]
  },
  {
   "cell_type": "markdown",
   "metadata": {},
   "source": [
    "In this notebook, we will calculate the conditional expectation $E[W_s|\\widehat{W_s^A},\\widehat{W_s^B}<P_B]$. \n",
    "\n",
    "This conditional expectation can be rewritten as\n",
    "\n",
    "$$E[W_s|\\widehat{W_s^A},\\widehat{W_s^B}<P_B] = \\int_R w \\frac{f_{W_s,\\widehat{W_s^A},\\widehat{W_s^B} < P_B}(w,w_A,w_B < P_B)}{f_{\\widehat{W_s^A},\\widehat{W_s^B} < P_B}(w_A,w_B < P_B)} dw$$"
   ]
  },
  {
   "cell_type": "markdown",
   "metadata": {},
   "source": [
    "The joint distribution in the numerator $f_{W_s,\\widehat{W_s^A},\\widehat{W_s^B} < P_B}(w,w_A,w_B < P_B)$ can be rewritten as \n",
    "\n",
    "$$f_{W_s,\\widehat{W_s^A},\\widehat{W_s^B} < P_B}(w,w_A,w_B < P_B) = \\phi(\\frac{w_A - w}{\\sigma_{G(s)}}) \\Phi(\\frac{P_B- w}{\\sigma_{G(s)}}) \\phi(\\frac{w}{\\chi})$$\n",
    "\n",
    "where $\\phi,\\Phi$ are respectively the pdf and cdf of the standard normal distribution variable $Z$. \n",
    "\n",
    "Thus we define the following function to calculate this joint distribution\n"
   ]
  },
  {
   "cell_type": "code",
   "execution_count": 3,
   "metadata": {},
   "outputs": [],
   "source": [
    "def joint_dist(w,w_a,p_b,chi,sigma):\n",
    "    return norm.pdf(w,0,chi)*norm.pdf((w_a - w),0,sigma)*norm.cdf((p_b-w),0,sigma)"
   ]
  },
  {
   "cell_type": "markdown",
   "metadata": {},
   "source": [
    "where `chi,sigma` are repspectively $\\chi,\\sigma_{G(s)}$."
   ]
  },
  {
   "cell_type": "markdown",
   "metadata": {},
   "source": [
    "Using the fact that $(\\widehat{W_s^A},\\widehat{W_s^B})$ is joint Gaussian, the joint distribution $f_{\\widehat{W_s^A},\\widehat{W_s^B} < P_B}(w_A,w_B < P_B)$ in the denominator can be rewritten as\n",
    "\n",
    "$$f_{\\widehat{W_s^A},\\widehat{W_s^B} < P_B}(w_A,w_B < P_B) = f_{\\widehat{W_s^B} < P_B|\\widehat{W^A_s}}(w_B < P_B|w_A) f_{\\widehat{W^A_s}}(w_A).$$\n",
    "\n",
    "We therefore define the following function to calculate the joint distribution $f_{\\widehat{W_s^A},\\widehat{W_s^B} < P_B}(w_A,w_B < P_B)$"
   ]
  },
  {
   "cell_type": "code",
   "execution_count": 4,
   "metadata": {},
   "outputs": [],
   "source": [
    "def gaussian_denominator(w_a,P_B,chi,sigma):\n",
    "    mean_cond_dist = chi**2/(chi**2 + sigma**2)*w_a\n",
    "    var_cond_dist = (sigma**4 + 2*sigma**2*chi**2)/(chi**2 + sigma**2)\n",
    "    return norm.cdf(P_B,mean_cond_dist,np.sqrt(var_cond_dist))*norm.pdf(w_a,0,np.sqrt(sigma**2 + chi**2))"
   ]
  },
  {
   "cell_type": "markdown",
   "metadata": {},
   "source": [
    "In order to calculate the conditional expectation, we need to calculate \n",
    "\n",
    "$$E[W_s|\\widehat{W_s^A},\\widehat{W_s^B}<P_B] =  \\frac{\\int_R w\\phi(\\frac{w_A - w}{\\sigma_{G(s)}}) \\Phi(\\frac{P_B- w}{\\sigma_{G(s)}}) \\phi(\\frac{w}{\\chi})dw}{f_{\\widehat{W_s^A},\\widehat{W_s^B} < P_B}(w_A,w_B < P_B)}  $$"
   ]
  },
  {
   "cell_type": "markdown",
   "metadata": {},
   "source": [
    "We will calculate the numerator using numerical integration using `scipy.integrate`"
   ]
  },
  {
   "cell_type": "code",
   "execution_count": 15,
   "metadata": {},
   "outputs": [],
   "source": [
    "#Define function inside the integral\n",
    "def integrand(w,w_a,p_b,chi,sigma):\n",
    "    return w*norm.pdf(w,0,chi)*norm.pdf((w_a - w),0,sigma)*norm.cdf((p_b-w),0,sigma)#/gaussian_denominator(w_a,p_b,chi,sigma)"
   ]
  },
  {
   "cell_type": "code",
   "execution_count": 16,
   "metadata": {},
   "outputs": [],
   "source": [
    "#Calculate the integral with respect to w\n",
    "def exp_val(w_a,p_b,chi,sigma):\n",
    "    return quad(integrand, -np.inf,np.inf,args=(w_a,p_b,chi,sigma))"
   ]
  },
  {
   "cell_type": "markdown",
   "metadata": {},
   "source": [
    "The conditional expectation function therefore is\n"
   ]
  },
  {
   "cell_type": "code",
   "execution_count": 21,
   "metadata": {},
   "outputs": [],
   "source": [
    "def bayesian_est(w_a,p_b,chi,sigma):\n",
    "    return exp_val(w_a,p_b,chi,sigma)[0]/gaussian_denominator(w_a,p_b,chi,sigma)"
   ]
  },
  {
   "cell_type": "markdown",
   "metadata": {},
   "source": [
    "For comparison, we also define the naive bayesian estimator as  $E[W_s|\\widehat{W_s^A}]$"
   ]
  },
  {
   "cell_type": "code",
   "execution_count": 23,
   "metadata": {},
   "outputs": [],
   "source": [
    "def bayesian_naive(w_a,chi,sigma):\n",
    "    return chi**2/(chi**2+sigma**2)*w_a"
   ]
  },
  {
   "cell_type": "markdown",
   "metadata": {},
   "source": [
    "#### Data generator function"
   ]
  },
  {
   "cell_type": "markdown",
   "metadata": {},
   "source": [
    "We generate $W$ and $\\varepsilon_A,\\varepsilon_B$ according to Gaussian distributions with $\\chi,\\sigma$ respectively to be the standard deviation of $W$ and $\\varepsilon_A,\\varepsilon_B$."
   ]
  },
  {
   "cell_type": "code",
   "execution_count": 18,
   "metadata": {},
   "outputs": [],
   "source": [
    "#Generate data, return data and the parameter chi, sigma\n",
    "def data_generator(chi=4,sigma=2,n=100000,mu_w = 0, mu_epsilon = 0):\n",
    "    #Generate value\n",
    "    W = np.random.normal(mu_w,chi,n)\n",
    "    epsilon_a = np.random.normal(mu_epsilon,sigma,n)\n",
    "    epsilon_b = np.random.normal(mu_epsilon,sigma,n)\n",
    "    W_A = W + epsilon_a\n",
    "    W_B = W + epsilon_b\n",
    "    #Generate cutoff value of College B (Here we choose 75 percentile)\n",
    "    P_B = np.percentile(W_B,75)\n",
    "    return W,W_A,W_B,P_B,chi,sigma\n"
   ]
  },
  {
   "cell_type": "code",
   "execution_count": 6,
   "metadata": {},
   "outputs": [],
   "source": [
    "#Randomized a student\n",
    "def randomized_student(W,W_A):\n",
    "    #Select a random student\n",
    "    student_index = np.random.randint(0,9999)\n",
    "    w = W[student_index]\n",
    "    w_a = W_A[student_index]\n",
    "    return student_index,w,w_a"
   ]
  },
  {
   "cell_type": "markdown",
   "metadata": {},
   "source": [
    "#### Test for corner case"
   ]
  },
  {
   "cell_type": "markdown",
   "metadata": {},
   "source": [
    "We first test whether or not the theoretical conditional probability $f_{W_s|\\widehat{W_s^A},\\widehat{W_s^B} < P_B}(w|w_A,w_B < P_B)$ is similar to the kernel density estimator from our generated data"
   ]
  },
  {
   "cell_type": "code",
   "execution_count": 77,
   "metadata": {},
   "outputs": [],
   "source": [
    "#Generate daata\n",
    "W,W_A,W_B,P_B,chi,sigma = data_generator(n=1000000)"
   ]
  },
  {
   "cell_type": "code",
   "execution_count": 84,
   "metadata": {},
   "outputs": [
    {
     "data": {
      "text/plain": [
       "9434"
      ]
     },
     "execution_count": 84,
     "metadata": {},
     "output_type": "execute_result"
    }
   ],
   "source": [
    "w_a = 5\n",
    "P_B = 10\n",
    "h = 1e-1\n",
    "test_w = W[(W_A < w_a + h)& (W_A > w_a - h)&(W_B < P_B)]\n",
    "len(test_w)"
   ]
  },
  {
   "cell_type": "code",
   "execution_count": 85,
   "metadata": {},
   "outputs": [],
   "source": [
    "w = np.arange(-15,15,0.1)\n",
    "joint_distribution = joint_dist(w,w_a,P_B,chi,sigma)\n",
    "cond_distribution = joint_dist(w,w_a,P_B,chi,sigma)/gaussian_denominator(w_a,P_B,chi,sigma)"
   ]
  },
  {
   "cell_type": "code",
   "execution_count": 86,
   "metadata": {},
   "outputs": [
    {
     "data": {
      "image/png": "[encoded data removed]",
      "text/plain": [
       "<Figure size 640x480 with 1 Axes>"
      ]
     },
     "metadata": {},
     "output_type": "display_data"
    }
   ],
   "source": [
    "plt.figure()\n",
    "plt.plot(w,cond_distribution)\n",
    "sns.kdeplot(test_w)\n",
    "#ax = plt.gca()\n",
    "\n",
    "\n",
    "plt.show()"
   ]
  },
  {
   "cell_type": "markdown",
   "metadata": {},
   "source": [
    "As the value of $P_B$ becomes large, we will expect the value of the conditional expectation $E[W_s|\\widehat{W_s^A},\\widehat{W_s^B}<P_B]$ to become close to the value of the conditoinal expectation $E[W_s|\\widehat{W_s^A}]$"
   ]
  },
  {
   "cell_type": "code",
   "execution_count": 87,
   "metadata": {},
   "outputs": [
    {
     "name": "stdout",
     "output_type": "stream",
     "text": [
      "P_B is 1\n",
      "The value of Bayesian Estimator is 2.067486049762061\n",
      "The value of Bayesian Naive is 4.0\n"
     ]
    }
   ],
   "source": [
    "P_B = 1\n",
    "print(f'P_B is {P_B}')\n",
    "print(f'The value of Bayesian Estimator is {bayesian_est(w_a,P_B,chi,sigma)}')\n",
    "print(f'The value of Bayesian Naive is {bayesian_naive(w_a,chi,sigma)}')"
   ]
  },
  {
   "cell_type": "code",
   "execution_count": 88,
   "metadata": {},
   "outputs": [
    {
     "name": "stdout",
     "output_type": "stream",
     "text": [
      "P_B is 10\n",
      "The value of Bayesian Estimator is 3.9604454117919654\n",
      "The value of Bayesian Naive is 4.0\n"
     ]
    }
   ],
   "source": [
    "P_B = 10\n",
    "print(f'P_B is {P_B}')\n",
    "print(f'The value of Bayesian Estimator is {bayesian_est(w_a,P_B,chi,sigma)}')\n",
    "print(f'The value of Bayesian Naive is {bayesian_naive(w_a,chi,sigma)}')"
   ]
  },
  {
   "cell_type": "code",
   "execution_count": 89,
   "metadata": {},
   "outputs": [
    {
     "name": "stdout",
     "output_type": "stream",
     "text": [
      "P_B is 100\n",
      "The value of Bayesian Estimator is 4.000000000000008\n",
      "The value of Bayesian Naive is 4.0\n"
     ]
    }
   ],
   "source": [
    "P_B = 100\n",
    "print(f'P_B is {P_B}')\n",
    "print(f'The value of Bayesian Estimator is {bayesian_est(w_a,P_B,chi,sigma)}')\n",
    "print(f'The value of Bayesian Naive is {bayesian_naive(w_a,chi,sigma)}')"
   ]
  },
  {
   "cell_type": "markdown",
   "metadata": {},
   "source": [
    "We now consider the case where the value of $\\chi$ and $\\sigma$ become extreme."
   ]
  },
  {
   "cell_type": "markdown",
   "metadata": {},
   "source": [
    "The first case would be when $\\chi$ become really large in comparison to $\\sigma$. In such a case, most of the variation of the value of $\\widehat{W_s^A}$ and $\\widehat{W_s^B}$ is explained by the variation of $W$. The Bayesian estimator $E[W_s|\\widehat{W_s^A},\\widehat{W_s^B}<P_B]$ is expected to be close to the value of $\\widehat{W_s^A}$ if the $\\widehat{W_s^A} <P_B$. This is only accurate when the value of $\\widehat{W_s^A}$ is within a reasonable range. If $\\widehat{W_s^A}$ falls out of this range, the numerical error will cause the conditional expectation become small due to the value of $\\phi(\\frac{w_A - w}{\\sigma_{G(s)}})$ becomes extremely small."
   ]
  },
  {
   "cell_type": "code",
   "execution_count": 109,
   "metadata": {},
   "outputs": [],
   "source": [
    "#Here we select sigma = 1 and chi = 10000\n",
    "W,W_A,W_B,P_B,chi,sigma = data_generator(sigma=1,chi=10000)\n",
    "w_a = 10\n",
    "P_B = 100"
   ]
  },
  {
   "cell_type": "code",
   "execution_count": 110,
   "metadata": {},
   "outputs": [
    {
     "data": {
      "text/plain": [
       "9.999999899513435"
      ]
     },
     "execution_count": 110,
     "metadata": {},
     "output_type": "execute_result"
    }
   ],
   "source": [
    "bayesian_est(w_a,P_B,chi,sigma)"
   ]
  },
  {
   "cell_type": "markdown",
   "metadata": {},
   "source": [
    "The second case would be when $\\sigma$ become really large in comparison to $\\chi$. Both of the scores are mostly noise. The conditional expectation would be nothing but the theoretical mean of $W$, in this case $0$."
   ]
  },
  {
   "cell_type": "code",
   "execution_count": 90,
   "metadata": {},
   "outputs": [],
   "source": [
    "#Here we select chi = 1 and sigma = 10000\n",
    "W,W_A,W_B,P_B,chi,sigma = data_generator(chi=1,sigma=10000)\n",
    "w_a = 200\n",
    "P_B = -5"
   ]
  },
  {
   "cell_type": "code",
   "execution_count": 91,
   "metadata": {},
   "outputs": [
    {
     "data": {
      "text/plain": [
       "-7.782038273697496e-05"
      ]
     },
     "execution_count": 91,
     "metadata": {},
     "output_type": "execute_result"
    }
   ],
   "source": [
    "bayesian_est(w_a,P_B,chi,sigma)"
   ]
  },
  {
   "cell_type": "markdown",
   "metadata": {},
   "source": [
    "irregardless of the values of $w_a$ and $P_B$, the Bayesian estimator is close to $0$.\n"
   ]
  }
 ],
 "metadata": {
  "kernelspec": {
   "display_name": "usr",
   "language": "python",
   "name": "python3"
  },
  "language_info": {
   "codemirror_mode": {
    "name": "ipython",
    "version": 3
   },
   "file_extension": ".py",
   "mimetype": "text/x-python",
   "name": "python",
   "nbconvert_exporter": "python",
   "pygments_lexer": "ipython3",
   "version": "3.12.3"
  }
 },
 "nbformat": 4,
 "nbformat_minor": 2
}
